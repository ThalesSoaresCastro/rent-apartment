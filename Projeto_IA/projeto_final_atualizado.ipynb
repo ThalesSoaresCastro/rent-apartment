{
 "cells": [
  {
   "cell_type": "markdown",
   "metadata": {},
   "source": [
    "# Projeto Final"
   ]
  },
  {
   "cell_type": "markdown",
   "metadata": {},
   "source": [
    "Carregando os dados no dataset e fazendo as importações das libs"
   ]
  },
  {
   "cell_type": "code",
   "execution_count": 76,
   "metadata": {},
   "outputs": [],
   "source": [
    "# pip install tensorflow"
   ]
  },
  {
   "cell_type": "code",
   "execution_count": 77,
   "metadata": {},
   "outputs": [],
   "source": [
    "import pandas as pd\n",
    "import numpy as np\n",
    "\n",
    "import seaborn as sns\n",
    "import matplotlib.pyplot as plt\n",
    "\n",
    "from sklearn.model_selection import train_test_split\n",
    "from sklearn.preprocessing import StandardScaler\n",
    "\n",
    "\n",
    "from sklearn.model_selection import cross_val_score\n",
    "from sklearn.metrics import accuracy_score\n",
    "from sklearn.metrics import mean_squared_error\n",
    "from sklearn.metrics import r2_score\n",
    "\n",
    "from sklearn.model_selection import StratifiedKFold\n",
    "\n",
    "\n",
    "import psutil\n",
    "import time"
   ]
  },
  {
   "cell_type": "code",
   "execution_count": 78,
   "metadata": {},
   "outputs": [],
   "source": [
    "df = pd.read_csv('datasets/houses_to_rent_v2.csv')"
   ]
  },
  {
   "cell_type": "code",
   "execution_count": 79,
   "metadata": {},
   "outputs": [
    {
     "data": {
      "text/plain": [
       "(10692, 13)"
      ]
     },
     "execution_count": 79,
     "metadata": {},
     "output_type": "execute_result"
    }
   ],
   "source": [
    "df.shape"
   ]
  },
  {
   "cell_type": "markdown",
   "metadata": {},
   "source": [
    "Fazendo a verificação do dataset:\n",
    " * Colunas presentes no dataset;\n",
    " * Existência de dados faltantes;\n",
    " * O tipo dos dados presente no dataset;\n",
    "\n",
    "E fazendo o devido tratamento, caso seja necessário."
   ]
  },
  {
   "cell_type": "code",
   "execution_count": 80,
   "metadata": {},
   "outputs": [
    {
     "data": {
      "text/plain": [
       "city                   0\n",
       "area                   0\n",
       "rooms                  0\n",
       "bathroom               0\n",
       "parking spaces         0\n",
       "floor                  0\n",
       "animal                 0\n",
       "furniture              0\n",
       "hoa (R$)               0\n",
       "rent amount (R$)       0\n",
       "property tax (R$)      0\n",
       "fire insurance (R$)    0\n",
       "total (R$)             0\n",
       "dtype: int64"
      ]
     },
     "execution_count": 80,
     "metadata": {},
     "output_type": "execute_result"
    }
   ],
   "source": [
    "df.isnull().sum()"
   ]
  },
  {
   "cell_type": "code",
   "execution_count": 81,
   "metadata": {},
   "outputs": [
    {
     "data": {
      "text/plain": [
       "city                   object\n",
       "area                    int64\n",
       "rooms                   int64\n",
       "bathroom                int64\n",
       "parking spaces          int64\n",
       "floor                  object\n",
       "animal                 object\n",
       "furniture              object\n",
       "hoa (R$)                int64\n",
       "rent amount (R$)        int64\n",
       "property tax (R$)       int64\n",
       "fire insurance (R$)     int64\n",
       "total (R$)              int64\n",
       "dtype: object"
      ]
     },
     "execution_count": 81,
     "metadata": {},
     "output_type": "execute_result"
    }
   ],
   "source": [
    "df.dtypes"
   ]
  },
  {
   "cell_type": "code",
   "execution_count": 82,
   "metadata": {},
   "outputs": [
    {
     "data": {
      "text/plain": [
       "Campinas           853\n",
       "Porto Alegre      1193\n",
       "Belo Horizonte    1258\n",
       "Rio de Janeiro    1501\n",
       "São Paulo         5887\n",
       "Name: city, dtype: int64"
      ]
     },
     "execution_count": 82,
     "metadata": {},
     "output_type": "execute_result"
    }
   ],
   "source": [
    "df['city'].value_counts(sort=True, ascending=True)\n"
   ]
  },
  {
   "cell_type": "code",
   "execution_count": 83,
   "metadata": {},
   "outputs": [
    {
     "data": {
      "text/plain": [
       "Index(['city', 'area', 'rooms', 'bathroom', 'parking spaces', 'floor',\n",
       "       'animal', 'furniture', 'hoa (R$)', 'rent amount (R$)',\n",
       "       'property tax (R$)', 'fire insurance (R$)', 'total (R$)'],\n",
       "      dtype='object')"
      ]
     },
     "execution_count": 83,
     "metadata": {},
     "output_type": "execute_result"
    }
   ],
   "source": [
    "df.columns"
   ]
  },
  {
   "cell_type": "code",
   "execution_count": 84,
   "metadata": {},
   "outputs": [
    {
     "data": {
      "text/html": [
       "<div>\n",
       "<style scoped>\n",
       "    .dataframe tbody tr th:only-of-type {\n",
       "        vertical-align: middle;\n",
       "    }\n",
       "\n",
       "    .dataframe tbody tr th {\n",
       "        vertical-align: top;\n",
       "    }\n",
       "\n",
       "    .dataframe thead th {\n",
       "        text-align: right;\n",
       "    }\n",
       "</style>\n",
       "<table border=\"1\" class=\"dataframe\">\n",
       "  <thead>\n",
       "    <tr style=\"text-align: right;\">\n",
       "      <th></th>\n",
       "      <th>city</th>\n",
       "      <th>area</th>\n",
       "      <th>rooms</th>\n",
       "      <th>bathroom</th>\n",
       "      <th>parking spaces</th>\n",
       "      <th>floor</th>\n",
       "      <th>animal</th>\n",
       "      <th>furniture</th>\n",
       "      <th>hoa (R$)</th>\n",
       "      <th>rent amount (R$)</th>\n",
       "      <th>property tax (R$)</th>\n",
       "      <th>fire insurance (R$)</th>\n",
       "      <th>total (R$)</th>\n",
       "    </tr>\n",
       "  </thead>\n",
       "  <tbody>\n",
       "    <tr>\n",
       "      <th>0</th>\n",
       "      <td>São Paulo</td>\n",
       "      <td>70</td>\n",
       "      <td>2</td>\n",
       "      <td>1</td>\n",
       "      <td>1</td>\n",
       "      <td>7</td>\n",
       "      <td>acept</td>\n",
       "      <td>furnished</td>\n",
       "      <td>2065</td>\n",
       "      <td>3300</td>\n",
       "      <td>211</td>\n",
       "      <td>42</td>\n",
       "      <td>5618</td>\n",
       "    </tr>\n",
       "    <tr>\n",
       "      <th>1</th>\n",
       "      <td>São Paulo</td>\n",
       "      <td>320</td>\n",
       "      <td>4</td>\n",
       "      <td>4</td>\n",
       "      <td>0</td>\n",
       "      <td>20</td>\n",
       "      <td>acept</td>\n",
       "      <td>not furnished</td>\n",
       "      <td>1200</td>\n",
       "      <td>4960</td>\n",
       "      <td>1750</td>\n",
       "      <td>63</td>\n",
       "      <td>7973</td>\n",
       "    </tr>\n",
       "    <tr>\n",
       "      <th>2</th>\n",
       "      <td>Porto Alegre</td>\n",
       "      <td>80</td>\n",
       "      <td>1</td>\n",
       "      <td>1</td>\n",
       "      <td>1</td>\n",
       "      <td>6</td>\n",
       "      <td>acept</td>\n",
       "      <td>not furnished</td>\n",
       "      <td>1000</td>\n",
       "      <td>2800</td>\n",
       "      <td>0</td>\n",
       "      <td>41</td>\n",
       "      <td>3841</td>\n",
       "    </tr>\n",
       "    <tr>\n",
       "      <th>3</th>\n",
       "      <td>Porto Alegre</td>\n",
       "      <td>51</td>\n",
       "      <td>2</td>\n",
       "      <td>1</td>\n",
       "      <td>0</td>\n",
       "      <td>2</td>\n",
       "      <td>acept</td>\n",
       "      <td>not furnished</td>\n",
       "      <td>270</td>\n",
       "      <td>1112</td>\n",
       "      <td>22</td>\n",
       "      <td>17</td>\n",
       "      <td>1421</td>\n",
       "    </tr>\n",
       "    <tr>\n",
       "      <th>4</th>\n",
       "      <td>São Paulo</td>\n",
       "      <td>25</td>\n",
       "      <td>1</td>\n",
       "      <td>1</td>\n",
       "      <td>0</td>\n",
       "      <td>1</td>\n",
       "      <td>not acept</td>\n",
       "      <td>not furnished</td>\n",
       "      <td>0</td>\n",
       "      <td>800</td>\n",
       "      <td>25</td>\n",
       "      <td>11</td>\n",
       "      <td>836</td>\n",
       "    </tr>\n",
       "    <tr>\n",
       "      <th>5</th>\n",
       "      <td>São Paulo</td>\n",
       "      <td>376</td>\n",
       "      <td>3</td>\n",
       "      <td>3</td>\n",
       "      <td>7</td>\n",
       "      <td>-</td>\n",
       "      <td>acept</td>\n",
       "      <td>not furnished</td>\n",
       "      <td>0</td>\n",
       "      <td>8000</td>\n",
       "      <td>834</td>\n",
       "      <td>121</td>\n",
       "      <td>8955</td>\n",
       "    </tr>\n",
       "    <tr>\n",
       "      <th>6</th>\n",
       "      <td>Rio de Janeiro</td>\n",
       "      <td>72</td>\n",
       "      <td>2</td>\n",
       "      <td>1</td>\n",
       "      <td>0</td>\n",
       "      <td>7</td>\n",
       "      <td>acept</td>\n",
       "      <td>not furnished</td>\n",
       "      <td>740</td>\n",
       "      <td>1900</td>\n",
       "      <td>85</td>\n",
       "      <td>25</td>\n",
       "      <td>2750</td>\n",
       "    </tr>\n",
       "    <tr>\n",
       "      <th>7</th>\n",
       "      <td>São Paulo</td>\n",
       "      <td>213</td>\n",
       "      <td>4</td>\n",
       "      <td>4</td>\n",
       "      <td>4</td>\n",
       "      <td>4</td>\n",
       "      <td>acept</td>\n",
       "      <td>not furnished</td>\n",
       "      <td>2254</td>\n",
       "      <td>3223</td>\n",
       "      <td>1735</td>\n",
       "      <td>41</td>\n",
       "      <td>7253</td>\n",
       "    </tr>\n",
       "    <tr>\n",
       "      <th>8</th>\n",
       "      <td>São Paulo</td>\n",
       "      <td>152</td>\n",
       "      <td>2</td>\n",
       "      <td>2</td>\n",
       "      <td>1</td>\n",
       "      <td>3</td>\n",
       "      <td>acept</td>\n",
       "      <td>furnished</td>\n",
       "      <td>1000</td>\n",
       "      <td>15000</td>\n",
       "      <td>250</td>\n",
       "      <td>191</td>\n",
       "      <td>16440</td>\n",
       "    </tr>\n",
       "    <tr>\n",
       "      <th>9</th>\n",
       "      <td>Rio de Janeiro</td>\n",
       "      <td>35</td>\n",
       "      <td>1</td>\n",
       "      <td>1</td>\n",
       "      <td>0</td>\n",
       "      <td>2</td>\n",
       "      <td>acept</td>\n",
       "      <td>furnished</td>\n",
       "      <td>590</td>\n",
       "      <td>2300</td>\n",
       "      <td>35</td>\n",
       "      <td>30</td>\n",
       "      <td>2955</td>\n",
       "    </tr>\n",
       "  </tbody>\n",
       "</table>\n",
       "</div>"
      ],
      "text/plain": [
       "             city  area  rooms  bathroom  parking spaces floor     animal  \\\n",
       "0       São Paulo    70      2         1               1     7      acept   \n",
       "1       São Paulo   320      4         4               0    20      acept   \n",
       "2    Porto Alegre    80      1         1               1     6      acept   \n",
       "3    Porto Alegre    51      2         1               0     2      acept   \n",
       "4       São Paulo    25      1         1               0     1  not acept   \n",
       "5       São Paulo   376      3         3               7     -      acept   \n",
       "6  Rio de Janeiro    72      2         1               0     7      acept   \n",
       "7       São Paulo   213      4         4               4     4      acept   \n",
       "8       São Paulo   152      2         2               1     3      acept   \n",
       "9  Rio de Janeiro    35      1         1               0     2      acept   \n",
       "\n",
       "       furniture  hoa (R$)  rent amount (R$)  property tax (R$)  \\\n",
       "0      furnished      2065              3300                211   \n",
       "1  not furnished      1200              4960               1750   \n",
       "2  not furnished      1000              2800                  0   \n",
       "3  not furnished       270              1112                 22   \n",
       "4  not furnished         0               800                 25   \n",
       "5  not furnished         0              8000                834   \n",
       "6  not furnished       740              1900                 85   \n",
       "7  not furnished      2254              3223               1735   \n",
       "8      furnished      1000             15000                250   \n",
       "9      furnished       590              2300                 35   \n",
       "\n",
       "   fire insurance (R$)  total (R$)  \n",
       "0                   42        5618  \n",
       "1                   63        7973  \n",
       "2                   41        3841  \n",
       "3                   17        1421  \n",
       "4                   11         836  \n",
       "5                  121        8955  \n",
       "6                   25        2750  \n",
       "7                   41        7253  \n",
       "8                  191       16440  \n",
       "9                   30        2955  "
      ]
     },
     "execution_count": 84,
     "metadata": {},
     "output_type": "execute_result"
    }
   ],
   "source": [
    "df.head(10)"
   ]
  },
  {
   "cell_type": "markdown",
   "metadata": {},
   "source": [
    "# Tratando Valores Categóricos\n",
    "\n",
    "* City\n",
    "* Floor\n",
    "* Animal\n",
    "* Furniture"
   ]
  },
  {
   "cell_type": "code",
   "execution_count": 85,
   "metadata": {},
   "outputs": [],
   "source": [
    "arr_col = ['city','furniture', 'animal', 'floor']\n",
    "\n",
    "for a in arr_col:\n",
    "    df[a]=df[a].factorize()[0]"
   ]
  },
  {
   "cell_type": "code",
   "execution_count": 86,
   "metadata": {},
   "outputs": [
    {
     "data": {
      "text/html": [
       "<div>\n",
       "<style scoped>\n",
       "    .dataframe tbody tr th:only-of-type {\n",
       "        vertical-align: middle;\n",
       "    }\n",
       "\n",
       "    .dataframe tbody tr th {\n",
       "        vertical-align: top;\n",
       "    }\n",
       "\n",
       "    .dataframe thead th {\n",
       "        text-align: right;\n",
       "    }\n",
       "</style>\n",
       "<table border=\"1\" class=\"dataframe\">\n",
       "  <thead>\n",
       "    <tr style=\"text-align: right;\">\n",
       "      <th></th>\n",
       "      <th>city</th>\n",
       "      <th>area</th>\n",
       "      <th>rooms</th>\n",
       "      <th>bathroom</th>\n",
       "      <th>parking spaces</th>\n",
       "      <th>floor</th>\n",
       "      <th>animal</th>\n",
       "      <th>furniture</th>\n",
       "      <th>hoa (R$)</th>\n",
       "      <th>rent amount (R$)</th>\n",
       "      <th>property tax (R$)</th>\n",
       "      <th>fire insurance (R$)</th>\n",
       "      <th>total (R$)</th>\n",
       "    </tr>\n",
       "  </thead>\n",
       "  <tbody>\n",
       "    <tr>\n",
       "      <th>count</th>\n",
       "      <td>10692.000000</td>\n",
       "      <td>10692.000000</td>\n",
       "      <td>10692.000000</td>\n",
       "      <td>10692.000000</td>\n",
       "      <td>10692.000000</td>\n",
       "      <td>10692.000000</td>\n",
       "      <td>10692.000000</td>\n",
       "      <td>10692.000000</td>\n",
       "      <td>1.069200e+04</td>\n",
       "      <td>10692.000000</td>\n",
       "      <td>10692.000000</td>\n",
       "      <td>10692.000000</td>\n",
       "      <td>1.069200e+04</td>\n",
       "    </tr>\n",
       "    <tr>\n",
       "      <th>mean</th>\n",
       "      <td>1.102319</td>\n",
       "      <td>149.217920</td>\n",
       "      <td>2.506079</td>\n",
       "      <td>2.236813</td>\n",
       "      <td>1.609147</td>\n",
       "      <td>7.501122</td>\n",
       "      <td>0.222222</td>\n",
       "      <td>0.756266</td>\n",
       "      <td>1.174022e+03</td>\n",
       "      <td>3896.247194</td>\n",
       "      <td>366.704358</td>\n",
       "      <td>53.300879</td>\n",
       "      <td>5.490487e+03</td>\n",
       "    </tr>\n",
       "    <tr>\n",
       "      <th>std</th>\n",
       "      <td>1.434833</td>\n",
       "      <td>537.016942</td>\n",
       "      <td>1.171266</td>\n",
       "      <td>1.407198</td>\n",
       "      <td>1.589521</td>\n",
       "      <td>5.495272</td>\n",
       "      <td>0.415759</td>\n",
       "      <td>0.429354</td>\n",
       "      <td>1.559231e+04</td>\n",
       "      <td>3408.545518</td>\n",
       "      <td>3107.832321</td>\n",
       "      <td>47.768031</td>\n",
       "      <td>1.648473e+04</td>\n",
       "    </tr>\n",
       "    <tr>\n",
       "      <th>min</th>\n",
       "      <td>0.000000</td>\n",
       "      <td>11.000000</td>\n",
       "      <td>1.000000</td>\n",
       "      <td>1.000000</td>\n",
       "      <td>0.000000</td>\n",
       "      <td>0.000000</td>\n",
       "      <td>0.000000</td>\n",
       "      <td>0.000000</td>\n",
       "      <td>0.000000e+00</td>\n",
       "      <td>450.000000</td>\n",
       "      <td>0.000000</td>\n",
       "      <td>3.000000</td>\n",
       "      <td>4.990000e+02</td>\n",
       "    </tr>\n",
       "    <tr>\n",
       "      <th>25%</th>\n",
       "      <td>0.000000</td>\n",
       "      <td>56.000000</td>\n",
       "      <td>2.000000</td>\n",
       "      <td>1.000000</td>\n",
       "      <td>0.000000</td>\n",
       "      <td>4.000000</td>\n",
       "      <td>0.000000</td>\n",
       "      <td>1.000000</td>\n",
       "      <td>1.700000e+02</td>\n",
       "      <td>1530.000000</td>\n",
       "      <td>38.000000</td>\n",
       "      <td>21.000000</td>\n",
       "      <td>2.061750e+03</td>\n",
       "    </tr>\n",
       "    <tr>\n",
       "      <th>50%</th>\n",
       "      <td>0.000000</td>\n",
       "      <td>90.000000</td>\n",
       "      <td>2.000000</td>\n",
       "      <td>2.000000</td>\n",
       "      <td>1.000000</td>\n",
       "      <td>5.000000</td>\n",
       "      <td>0.000000</td>\n",
       "      <td>1.000000</td>\n",
       "      <td>5.600000e+02</td>\n",
       "      <td>2661.000000</td>\n",
       "      <td>125.000000</td>\n",
       "      <td>36.000000</td>\n",
       "      <td>3.581500e+03</td>\n",
       "    </tr>\n",
       "    <tr>\n",
       "      <th>75%</th>\n",
       "      <td>2.000000</td>\n",
       "      <td>182.000000</td>\n",
       "      <td>3.000000</td>\n",
       "      <td>3.000000</td>\n",
       "      <td>2.000000</td>\n",
       "      <td>11.000000</td>\n",
       "      <td>0.000000</td>\n",
       "      <td>1.000000</td>\n",
       "      <td>1.237500e+03</td>\n",
       "      <td>5000.000000</td>\n",
       "      <td>375.000000</td>\n",
       "      <td>68.000000</td>\n",
       "      <td>6.768000e+03</td>\n",
       "    </tr>\n",
       "    <tr>\n",
       "      <th>max</th>\n",
       "      <td>4.000000</td>\n",
       "      <td>46335.000000</td>\n",
       "      <td>13.000000</td>\n",
       "      <td>10.000000</td>\n",
       "      <td>12.000000</td>\n",
       "      <td>34.000000</td>\n",
       "      <td>1.000000</td>\n",
       "      <td>1.000000</td>\n",
       "      <td>1.117000e+06</td>\n",
       "      <td>45000.000000</td>\n",
       "      <td>313700.000000</td>\n",
       "      <td>677.000000</td>\n",
       "      <td>1.120000e+06</td>\n",
       "    </tr>\n",
       "  </tbody>\n",
       "</table>\n",
       "</div>"
      ],
      "text/plain": [
       "               city          area         rooms      bathroom  parking spaces  \\\n",
       "count  10692.000000  10692.000000  10692.000000  10692.000000    10692.000000   \n",
       "mean       1.102319    149.217920      2.506079      2.236813        1.609147   \n",
       "std        1.434833    537.016942      1.171266      1.407198        1.589521   \n",
       "min        0.000000     11.000000      1.000000      1.000000        0.000000   \n",
       "25%        0.000000     56.000000      2.000000      1.000000        0.000000   \n",
       "50%        0.000000     90.000000      2.000000      2.000000        1.000000   \n",
       "75%        2.000000    182.000000      3.000000      3.000000        2.000000   \n",
       "max        4.000000  46335.000000     13.000000     10.000000       12.000000   \n",
       "\n",
       "              floor        animal     furniture      hoa (R$)  \\\n",
       "count  10692.000000  10692.000000  10692.000000  1.069200e+04   \n",
       "mean       7.501122      0.222222      0.756266  1.174022e+03   \n",
       "std        5.495272      0.415759      0.429354  1.559231e+04   \n",
       "min        0.000000      0.000000      0.000000  0.000000e+00   \n",
       "25%        4.000000      0.000000      1.000000  1.700000e+02   \n",
       "50%        5.000000      0.000000      1.000000  5.600000e+02   \n",
       "75%       11.000000      0.000000      1.000000  1.237500e+03   \n",
       "max       34.000000      1.000000      1.000000  1.117000e+06   \n",
       "\n",
       "       rent amount (R$)  property tax (R$)  fire insurance (R$)    total (R$)  \n",
       "count      10692.000000       10692.000000         10692.000000  1.069200e+04  \n",
       "mean        3896.247194         366.704358            53.300879  5.490487e+03  \n",
       "std         3408.545518        3107.832321            47.768031  1.648473e+04  \n",
       "min          450.000000           0.000000             3.000000  4.990000e+02  \n",
       "25%         1530.000000          38.000000            21.000000  2.061750e+03  \n",
       "50%         2661.000000         125.000000            36.000000  3.581500e+03  \n",
       "75%         5000.000000         375.000000            68.000000  6.768000e+03  \n",
       "max        45000.000000      313700.000000           677.000000  1.120000e+06  "
      ]
     },
     "execution_count": 86,
     "metadata": {},
     "output_type": "execute_result"
    }
   ],
   "source": [
    "df.describe()"
   ]
  },
  {
   "cell_type": "code",
   "execution_count": 87,
   "metadata": {},
   "outputs": [
    {
     "data": {
      "text/html": [
       "<div>\n",
       "<style scoped>\n",
       "    .dataframe tbody tr th:only-of-type {\n",
       "        vertical-align: middle;\n",
       "    }\n",
       "\n",
       "    .dataframe tbody tr th {\n",
       "        vertical-align: top;\n",
       "    }\n",
       "\n",
       "    .dataframe thead th {\n",
       "        text-align: right;\n",
       "    }\n",
       "</style>\n",
       "<table border=\"1\" class=\"dataframe\">\n",
       "  <thead>\n",
       "    <tr style=\"text-align: right;\">\n",
       "      <th></th>\n",
       "      <th>city</th>\n",
       "      <th>area</th>\n",
       "      <th>rooms</th>\n",
       "      <th>bathroom</th>\n",
       "      <th>parking spaces</th>\n",
       "      <th>floor</th>\n",
       "      <th>animal</th>\n",
       "      <th>furniture</th>\n",
       "      <th>hoa (R$)</th>\n",
       "      <th>rent amount (R$)</th>\n",
       "      <th>property tax (R$)</th>\n",
       "      <th>fire insurance (R$)</th>\n",
       "      <th>total (R$)</th>\n",
       "    </tr>\n",
       "  </thead>\n",
       "  <tbody>\n",
       "    <tr>\n",
       "      <th>0</th>\n",
       "      <td>0</td>\n",
       "      <td>70</td>\n",
       "      <td>2</td>\n",
       "      <td>1</td>\n",
       "      <td>1</td>\n",
       "      <td>0</td>\n",
       "      <td>0</td>\n",
       "      <td>0</td>\n",
       "      <td>2065</td>\n",
       "      <td>3300</td>\n",
       "      <td>211</td>\n",
       "      <td>42</td>\n",
       "      <td>5618</td>\n",
       "    </tr>\n",
       "    <tr>\n",
       "      <th>1</th>\n",
       "      <td>0</td>\n",
       "      <td>320</td>\n",
       "      <td>4</td>\n",
       "      <td>4</td>\n",
       "      <td>0</td>\n",
       "      <td>1</td>\n",
       "      <td>0</td>\n",
       "      <td>1</td>\n",
       "      <td>1200</td>\n",
       "      <td>4960</td>\n",
       "      <td>1750</td>\n",
       "      <td>63</td>\n",
       "      <td>7973</td>\n",
       "    </tr>\n",
       "    <tr>\n",
       "      <th>2</th>\n",
       "      <td>1</td>\n",
       "      <td>80</td>\n",
       "      <td>1</td>\n",
       "      <td>1</td>\n",
       "      <td>1</td>\n",
       "      <td>2</td>\n",
       "      <td>0</td>\n",
       "      <td>1</td>\n",
       "      <td>1000</td>\n",
       "      <td>2800</td>\n",
       "      <td>0</td>\n",
       "      <td>41</td>\n",
       "      <td>3841</td>\n",
       "    </tr>\n",
       "    <tr>\n",
       "      <th>3</th>\n",
       "      <td>1</td>\n",
       "      <td>51</td>\n",
       "      <td>2</td>\n",
       "      <td>1</td>\n",
       "      <td>0</td>\n",
       "      <td>3</td>\n",
       "      <td>0</td>\n",
       "      <td>1</td>\n",
       "      <td>270</td>\n",
       "      <td>1112</td>\n",
       "      <td>22</td>\n",
       "      <td>17</td>\n",
       "      <td>1421</td>\n",
       "    </tr>\n",
       "    <tr>\n",
       "      <th>4</th>\n",
       "      <td>0</td>\n",
       "      <td>25</td>\n",
       "      <td>1</td>\n",
       "      <td>1</td>\n",
       "      <td>0</td>\n",
       "      <td>4</td>\n",
       "      <td>1</td>\n",
       "      <td>1</td>\n",
       "      <td>0</td>\n",
       "      <td>800</td>\n",
       "      <td>25</td>\n",
       "      <td>11</td>\n",
       "      <td>836</td>\n",
       "    </tr>\n",
       "    <tr>\n",
       "      <th>5</th>\n",
       "      <td>0</td>\n",
       "      <td>376</td>\n",
       "      <td>3</td>\n",
       "      <td>3</td>\n",
       "      <td>7</td>\n",
       "      <td>5</td>\n",
       "      <td>0</td>\n",
       "      <td>1</td>\n",
       "      <td>0</td>\n",
       "      <td>8000</td>\n",
       "      <td>834</td>\n",
       "      <td>121</td>\n",
       "      <td>8955</td>\n",
       "    </tr>\n",
       "    <tr>\n",
       "      <th>6</th>\n",
       "      <td>2</td>\n",
       "      <td>72</td>\n",
       "      <td>2</td>\n",
       "      <td>1</td>\n",
       "      <td>0</td>\n",
       "      <td>0</td>\n",
       "      <td>0</td>\n",
       "      <td>1</td>\n",
       "      <td>740</td>\n",
       "      <td>1900</td>\n",
       "      <td>85</td>\n",
       "      <td>25</td>\n",
       "      <td>2750</td>\n",
       "    </tr>\n",
       "    <tr>\n",
       "      <th>7</th>\n",
       "      <td>0</td>\n",
       "      <td>213</td>\n",
       "      <td>4</td>\n",
       "      <td>4</td>\n",
       "      <td>4</td>\n",
       "      <td>6</td>\n",
       "      <td>0</td>\n",
       "      <td>1</td>\n",
       "      <td>2254</td>\n",
       "      <td>3223</td>\n",
       "      <td>1735</td>\n",
       "      <td>41</td>\n",
       "      <td>7253</td>\n",
       "    </tr>\n",
       "    <tr>\n",
       "      <th>8</th>\n",
       "      <td>0</td>\n",
       "      <td>152</td>\n",
       "      <td>2</td>\n",
       "      <td>2</td>\n",
       "      <td>1</td>\n",
       "      <td>7</td>\n",
       "      <td>0</td>\n",
       "      <td>0</td>\n",
       "      <td>1000</td>\n",
       "      <td>15000</td>\n",
       "      <td>250</td>\n",
       "      <td>191</td>\n",
       "      <td>16440</td>\n",
       "    </tr>\n",
       "    <tr>\n",
       "      <th>9</th>\n",
       "      <td>2</td>\n",
       "      <td>35</td>\n",
       "      <td>1</td>\n",
       "      <td>1</td>\n",
       "      <td>0</td>\n",
       "      <td>3</td>\n",
       "      <td>0</td>\n",
       "      <td>0</td>\n",
       "      <td>590</td>\n",
       "      <td>2300</td>\n",
       "      <td>35</td>\n",
       "      <td>30</td>\n",
       "      <td>2955</td>\n",
       "    </tr>\n",
       "  </tbody>\n",
       "</table>\n",
       "</div>"
      ],
      "text/plain": [
       "   city  area  rooms  bathroom  parking spaces  floor  animal  furniture  \\\n",
       "0     0    70      2         1               1      0       0          0   \n",
       "1     0   320      4         4               0      1       0          1   \n",
       "2     1    80      1         1               1      2       0          1   \n",
       "3     1    51      2         1               0      3       0          1   \n",
       "4     0    25      1         1               0      4       1          1   \n",
       "5     0   376      3         3               7      5       0          1   \n",
       "6     2    72      2         1               0      0       0          1   \n",
       "7     0   213      4         4               4      6       0          1   \n",
       "8     0   152      2         2               1      7       0          0   \n",
       "9     2    35      1         1               0      3       0          0   \n",
       "\n",
       "   hoa (R$)  rent amount (R$)  property tax (R$)  fire insurance (R$)  \\\n",
       "0      2065              3300                211                   42   \n",
       "1      1200              4960               1750                   63   \n",
       "2      1000              2800                  0                   41   \n",
       "3       270              1112                 22                   17   \n",
       "4         0               800                 25                   11   \n",
       "5         0              8000                834                  121   \n",
       "6       740              1900                 85                   25   \n",
       "7      2254              3223               1735                   41   \n",
       "8      1000             15000                250                  191   \n",
       "9       590              2300                 35                   30   \n",
       "\n",
       "   total (R$)  \n",
       "0        5618  \n",
       "1        7973  \n",
       "2        3841  \n",
       "3        1421  \n",
       "4         836  \n",
       "5        8955  \n",
       "6        2750  \n",
       "7        7253  \n",
       "8       16440  \n",
       "9        2955  "
      ]
     },
     "execution_count": 87,
     "metadata": {},
     "output_type": "execute_result"
    }
   ],
   "source": [
    "df.head(10)"
   ]
  },
  {
   "cell_type": "code",
   "execution_count": 88,
   "metadata": {},
   "outputs": [
    {
     "data": {
      "text/html": [
       "<div>\n",
       "<style scoped>\n",
       "    .dataframe tbody tr th:only-of-type {\n",
       "        vertical-align: middle;\n",
       "    }\n",
       "\n",
       "    .dataframe tbody tr th {\n",
       "        vertical-align: top;\n",
       "    }\n",
       "\n",
       "    .dataframe thead th {\n",
       "        text-align: right;\n",
       "    }\n",
       "</style>\n",
       "<table border=\"1\" class=\"dataframe\">\n",
       "  <thead>\n",
       "    <tr style=\"text-align: right;\">\n",
       "      <th></th>\n",
       "      <th>Valores</th>\n",
       "      <th>Nomes</th>\n",
       "    </tr>\n",
       "  </thead>\n",
       "  <tbody>\n",
       "    <tr>\n",
       "      <th>3</th>\n",
       "      <td>853</td>\n",
       "      <td>Campinas</td>\n",
       "    </tr>\n",
       "    <tr>\n",
       "      <th>1</th>\n",
       "      <td>1193</td>\n",
       "      <td>Porto Alegre</td>\n",
       "    </tr>\n",
       "    <tr>\n",
       "      <th>4</th>\n",
       "      <td>1258</td>\n",
       "      <td>Belo Horizonte</td>\n",
       "    </tr>\n",
       "    <tr>\n",
       "      <th>2</th>\n",
       "      <td>1501</td>\n",
       "      <td>Rio de Janeiro</td>\n",
       "    </tr>\n",
       "    <tr>\n",
       "      <th>0</th>\n",
       "      <td>5887</td>\n",
       "      <td>São Paulo</td>\n",
       "    </tr>\n",
       "  </tbody>\n",
       "</table>\n",
       "</div>"
      ],
      "text/plain": [
       "   Valores           Nomes\n",
       "3      853        Campinas\n",
       "1     1193    Porto Alegre\n",
       "4     1258  Belo Horizonte\n",
       "2     1501  Rio de Janeiro\n",
       "0     5887       São Paulo"
      ]
     },
     "execution_count": 88,
     "metadata": {},
     "output_type": "execute_result"
    }
   ],
   "source": [
    "#Campinas = 3 | Porto Alegre = 1 | Belo Horizonte = 4 | Rio de Janeiro = 2 | São Paulo = 0\n",
    "cities = df['city'].value_counts(sort=True, ascending=True)\n",
    "\n",
    "names = ['Campinas', 'Porto Alegre', 'Belo Horizonte', 'Rio de Janeiro', 'São Paulo']\n",
    "df_cities = pd.DataFrame(cities)\n",
    "df_cities = df_cities.rename(columns={'city':'Valores'})\n",
    "df_cities['Nomes'] = names\n",
    "\n",
    "\n",
    "df_cities"
   ]
  },
  {
   "cell_type": "markdown",
   "metadata": {},
   "source": [
    "Separando o dataset Por Cidade"
   ]
  },
  {
   "cell_type": "markdown",
   "metadata": {},
   "source": [
    "## Criando um dicionário para se guardar os dados separados por cidade, em que:\n",
    "    ** Campinas é a cidade com valor 3; \n",
    "    ** Porto Alegre é a cidade com valor 1;\n",
    "    ** Belo Horizonte é a cidade com valor 4;\n",
    "    ** Rio de Janeiro é a cidade com valor 2;\n",
    "    ** São Paulo é a cidade com valor 0;"
   ]
  },
  {
   "cell_type": "code",
   "execution_count": 89,
   "metadata": {},
   "outputs": [],
   "source": [
    "df_City = {'nomes': names}\n",
    "for index,row in df_cities.iterrows():\n",
    "     df_City[row['Nomes']] = pd.DataFrame(df[df['city'] == index])"
   ]
  },
  {
   "cell_type": "code",
   "execution_count": 90,
   "metadata": {},
   "outputs": [
    {
     "data": {
      "text/plain": [
       "array([[<matplotlib.axes._subplots.AxesSubplot object at 0x7f2d4c6a7950>,\n",
       "        <matplotlib.axes._subplots.AxesSubplot object at 0x7f2d3f82ba90>,\n",
       "        <matplotlib.axes._subplots.AxesSubplot object at 0x7f2d3f7ddd50>,\n",
       "        <matplotlib.axes._subplots.AxesSubplot object at 0x7f2d3f79ab10>],\n",
       "       [<matplotlib.axes._subplots.AxesSubplot object at 0x7f2d3f74ee10>,\n",
       "        <matplotlib.axes._subplots.AxesSubplot object at 0x7f2d3f704690>,\n",
       "        <matplotlib.axes._subplots.AxesSubplot object at 0x7f2d3f6b9990>,\n",
       "        <matplotlib.axes._subplots.AxesSubplot object at 0x7f2d3f6ecc90>],\n",
       "       [<matplotlib.axes._subplots.AxesSubplot object at 0x7f2d3f676750>,\n",
       "        <matplotlib.axes._subplots.AxesSubplot object at 0x7f2d3f6aabd0>,\n",
       "        <matplotlib.axes._subplots.AxesSubplot object at 0x7f2d3f6135d0>,\n",
       "        <matplotlib.axes._subplots.AxesSubplot object at 0x7f2d3f5ce8d0>],\n",
       "       [<matplotlib.axes._subplots.AxesSubplot object at 0x7f2d3f583bd0>,\n",
       "        <matplotlib.axes._subplots.AxesSubplot object at 0x7f2d3f53aed0>,\n",
       "        <matplotlib.axes._subplots.AxesSubplot object at 0x7f2d3f4fec90>,\n",
       "        <matplotlib.axes._subplots.AxesSubplot object at 0x7f2d3f4b8fd0>]],\n",
       "      dtype=object)"
      ]
     },
     "execution_count": 90,
     "metadata": {},
     "output_type": "execute_result"
    },
    {
     "data": {
      "image/png": "[encoded data removed]",
      "text/plain": [
       "<Figure size 2160x1800 with 16 Axes>"
      ]
     },
     "metadata": {
      "needs_background": "light"
     },
     "output_type": "display_data"
    }
   ],
   "source": [
    "df.hist(bins=50, figsize=(30,25))"
   ]
  },
  {
   "cell_type": "markdown",
   "metadata": {},
   "source": [
    "Verificando as correlações entre os atributos do dataset"
   ]
  },
  {
   "cell_type": "code",
   "execution_count": 91,
   "metadata": {},
   "outputs": [
    {
     "data": {
      "image/png": "[encoded data removed]",
      "text/plain": [
       "<Figure size 1152x1152 with 2 Axes>"
      ]
     },
     "metadata": {
      "needs_background": "light"
     },
     "output_type": "display_data"
    }
   ],
   "source": [
    "#columns_dataset = df.columns[:-1].tolist()\n",
    "\n",
    "columns_dataset = df.columns.tolist()\n",
    "\n",
    "cors = df[columns_dataset].corr()\n",
    "plt.figure(figsize=(16,16))\n",
    "\n",
    "sns.heatmap(cors, cbar=True, square=True, annot=True, fmt=\".2f\", \n",
    "            annot_kws={'size': 15}, xticklabels=columns_dataset, \n",
    "            yticklabels=columns_dataset, alpha = 0.7, cmap=\"coolwarm\")\n",
    "\n",
    "plt.savefig('correlacao.svg', format='svg')\n",
    "plt.show()"
   ]
  },
  {
   "cell_type": "code",
   "execution_count": 92,
   "metadata": {},
   "outputs": [],
   "source": [
    "cat_corr = ['hoa (R$)','bathroom', 'rent amount (R$)', 'property tax (R$)', 'fire insurance (R$)']"
   ]
  },
  {
   "cell_type": "code",
   "execution_count": 93,
   "metadata": {},
   "outputs": [
    {
     "data": {
      "image/png": "[encoded data removed]",
      "text/plain": [
       "<Figure size 432x288 with 1 Axes>"
      ]
     },
     "metadata": {
      "needs_background": "light"
     },
     "output_type": "display_data"
    },
    {
     "data": {
      "image/png": "[encoded data removed]",
      "text/plain": [
       "<Figure size 432x288 with 1 Axes>"
      ]
     },
     "metadata": {
      "needs_background": "light"
     },
     "output_type": "display_data"
    },
    {
     "data": {
      "image/png": "[encoded data removed]",
      "text/plain": [
       "<Figure size 432x288 with 1 Axes>"
      ]
     },
     "metadata": {
      "needs_background": "light"
     },
     "output_type": "display_data"
    },
    {
     "data": {
      "image/png": "[encoded data removed]",
      "text/plain": [
       "<Figure size 432x288 with 1 Axes>"
      ]
     },
     "metadata": {
      "needs_background": "light"
     },
     "output_type": "display_data"
    },
    {
     "data": {
      "image/png": "[encoded data removed]",
      "text/plain": [
       "<Figure size 432x288 with 1 Axes>"
      ]
     },
     "metadata": {
      "needs_background": "light"
     },
     "output_type": "display_data"
    }
   ],
   "source": [
    "for i in cat_corr:\n",
    "    df.plot(kind='scatter', x=i, y='total (R$)', alpha=0.3)\n"
   ]
  },
  {
   "cell_type": "markdown",
   "metadata": {},
   "source": [
    "# Separando o conjunto de treino e teste"
   ]
  },
  {
   "cell_type": "code",
   "execution_count": 94,
   "metadata": {},
   "outputs": [],
   "source": [
    "X = df.drop('total (R$)', axis=1).values\n",
    "y = df['total (R$)'].values.reshape(-1,1)"
   ]
  },
  {
   "cell_type": "code",
   "execution_count": 95,
   "metadata": {},
   "outputs": [],
   "source": [
    "x_train, x_test, y_train, y_test = train_test_split(X,y, test_size=0.3, random_state=42)"
   ]
  },
  {
   "cell_type": "markdown",
   "metadata": {},
   "source": [
    "Dados normalizados:"
   ]
  },
  {
   "cell_type": "code",
   "execution_count": 96,
   "metadata": {},
   "outputs": [],
   "source": [
    "#min-max\n",
    "df_norml = (x_train - x_train.mean())/(x_train.max() - x_train.min())\n",
    "y_norml = (y_train - y_train.mean())/(y_train.max() - y_train.min())"
   ]
  },
  {
   "cell_type": "code",
   "execution_count": 97,
   "metadata": {},
   "outputs": [],
   "source": [
    "sc_x = StandardScaler()\n",
    "x_train_scal = sc_x.fit_transform(x_train)\n",
    "x_test_scal = sc_x.transform(x_test)\n",
    "\n",
    "sc_y = StandardScaler()\n",
    "y_train_scal = sc_y.fit_transform(y_train)\n",
    "y_test_scal = sc_y.transform(y_test)\n",
    "\n",
    "\n",
    "#z-score\n",
    "#x_train_scal = (x_train - x_train.mean())/(x_train.std())\n",
    "#y_train_scal = (y_train - y_train.mean())/(y_train.std())\n",
    "\n",
    "#x_test_scal = (x_test - x_test.mean())/(x_test.std())\n",
    "#y_test_scal = (y_test - y_test.mean())/(y_test.std())\n",
    "\n",
    "#input_values = (input_df - input_df.mean()) / (input_df.std())\n",
    "#output_values = (output_df - output_df.mean()) / (output_df.std())"
   ]
  },
  {
   "cell_type": "code",
   "execution_count": 98,
   "metadata": {},
   "outputs": [],
   "source": [
    "#std_df = StandardScaler()"
   ]
  },
  {
   "cell_type": "markdown",
   "metadata": {},
   "source": [
    "# Algoritmos de Machine Learning\n",
    "\n",
    "* Regressão Linear\n",
    "* Árvore de Decisão\n",
    "* Random Forest\n",
    "* Elastic Net\n",
    "* SVR"
   ]
  },
  {
   "cell_type": "code",
   "execution_count": 99,
   "metadata": {},
   "outputs": [],
   "source": [
    "models_list = []"
   ]
  },
  {
   "cell_type": "code",
   "execution_count": 100,
   "metadata": {},
   "outputs": [],
   "source": [
    "\"\"\"\n",
    "    Função para os métodos de Validação dos modelos.\n",
    "\"\"\"\n",
    "\n",
    "def metrics_validation(model, input_values, output_values, input_test, output_test):\n",
    "    \n",
    "    #SCORE MODEL\n",
    "    r2_train = model.score(input_values, output_values)\n",
    "    r2_test = model.score(input_test, output_test)\n",
    "\n",
    "    print(\"R2 Treinamento: %.7f\"%r2_train)\n",
    "    print(\"R2 Teste: %.7f\"%r2_test)\n",
    "    \n",
    "    \n",
    "    #MSE RMSE\n",
    "    pred_model = model.predict(input_values)\n",
    "    mse_model = mean_squared_error(output_values, pred_model)\n",
    "    rmse_model = np.sqrt(mse_model)\n",
    "\n",
    "    print('MSE: ', mse_model)\n",
    "    print('RMSE: ', rmse_model)\n",
    "\n",
    "    \n",
    "def cross_validation(model, input_df, output_df, model_name):\n",
    "    #Cross Validation\n",
    "    \n",
    "    \"\"\"\n",
    "        As duas abordagens, tanto normalizando, como padronizando os dados\n",
    "        ao serem recebidos para se aplicar a validação cruzada, dão resultados\n",
    "        equivalentes após se treinar os modelos nos modelos:\n",
    "            - Regressão Linear;\n",
    "            - Decision Tree;\n",
    "            - Random Forest;\n",
    "            \n",
    "    \n",
    "    \"\"\"\n",
    "    \n",
    "    #normalizando os dados recebidos...\n",
    "    #min-max\n",
    "    #input_values = (input_df - input_df.mean()) / (input_df.max() - input_df.min())\n",
    "    #output_values = (output_df - output_df.mean()) / (output_df.max() - output_df.min())\n",
    "    \n",
    "    #padronizando os dados recebidos...\n",
    "    #z-score\n",
    "    input_values = (input_df - input_df.mean()) / (input_df.std())\n",
    "    output_values = (output_df - output_df.mean()) / (output_df.std())\n",
    "    \n",
    "    scores_values = cross_val_score(model, input_values, \n",
    "                                  output_values, \n",
    "                                #scoring=\"neg_mean_squared_error\",\n",
    "                                 # scoring=\"accuracy\",\n",
    "                                  scoring='r2',\n",
    "                                  cv=5)\n",
    "    #rmse_scores_values = np.sqrt(-scores_values)\n",
    "    \n",
    "    #print('Scores: ', rmse_scores_values)\n",
    "    #print('Média Scores: ', rmse_scores_values.mean())\n",
    "    #print('Desvio Padrão Scores: ', rmse_scores_values.std())\n",
    "    \n",
    "    print('Scores: ', scores_values)\n",
    "    print('Média Scores: %0.6f'%scores_values.mean())\n",
    "    print('Desvio Padrão: %0.6f'%scores_values.std())\n",
    "    \n",
    "    return {'nome':model_name,'score':scores_values.mean()}\n",
    "    #models_dict[model_name] = scores_values.mean()\n",
    "    \n",
    "#     print(\"Accuracy: %0.2f (+/- %0.2f)\" % (scores_values.mean(), scores_values.std() * 2))"
   ]
  },
  {
   "cell_type": "code",
   "execution_count": 101,
   "metadata": {},
   "outputs": [],
   "source": [
    "#Plotagem do gráfico de predição(Acurácia):\n",
    "\n",
    "def graphics_plot(y_real_value, y_results_predict, model_name):\n",
    "    #plt.scatter(y_test_scal, pred_mlp)\n",
    "    fig=plt.figure(figsize=(7,7))\n",
    "    plt.scatter(y_real_value, y_results_predict, color='red')\n",
    "    plt.xlabel('Test Values')\n",
    "    plt.ylabel('Predictions - {}'.format(model_name))\n",
    "    plt.axis('equal')\n",
    "    plt.axis('square')\n",
    "    plt.xlim([0,plt.xlim()[1]])\n",
    "    plt.ylim([0,plt.ylim()[1]])\n",
    "    _ = plt.plot([-200, 200], [-200, 200], color='blue')\n",
    "    plt.savefig('graphics-{}.png'.format(model_name), format='png')\n",
    "    plt.show()"
   ]
  },
  {
   "cell_type": "code",
   "execution_count": 102,
   "metadata": {},
   "outputs": [],
   "source": [
    "\"\"\"\n",
    "    Criando duas listas distintas para se inserir os dados do custo de treinamento e predição dos modelos.\n",
    "    \n",
    "    -Custo de Treinamento do modelo: cust_process_fit.\n",
    "    -Custo para se fazer a predição: cust_process_predict.\n",
    "\"\"\"\n",
    "\n",
    "cust_process_fit=[]\n",
    "cust_process_predict=[]\n"
   ]
  },
  {
   "cell_type": "code",
   "execution_count": 103,
   "metadata": {},
   "outputs": [],
   "source": [
    "\n",
    "def process_cust(list_name,model_name):\n",
    "   list_name.append({\n",
    "                        'model': model_name,\n",
    "                        'cpu': psutil.cpu_percent(), \n",
    "                        'ram_memory': list(psutil.virtual_memory()._asdict().values())[2]\n",
    "   })\n",
    "   time.sleep(5)"
   ]
  },
  {
   "cell_type": "markdown",
   "metadata": {},
   "source": [
    "### Regressão Linear"
   ]
  },
  {
   "cell_type": "code",
   "execution_count": 104,
   "metadata": {},
   "outputs": [],
   "source": [
    "from sklearn.linear_model import LinearRegression"
   ]
  },
  {
   "cell_type": "code",
   "execution_count": 105,
   "metadata": {},
   "outputs": [],
   "source": [
    "model_linear = LinearRegression()"
   ]
  },
  {
   "cell_type": "code",
   "execution_count": 106,
   "metadata": {},
   "outputs": [],
   "source": [
    "#utilizando os dados sem normalizar\n",
    "#model_linear.fit(x_train, y_train)\n",
    "\n",
    "\n",
    "#utilizando os dados normalizados.\n",
    "model_linear.fit(x_train_scal, y_train_scal)\n",
    "\n",
    "#Verificando o procesamento de cpu e memória.\n",
    "process_cust(cust_process_fit,'Linear Regression')\n",
    "\n",
    "\n"
   ]
  },
  {
   "cell_type": "code",
   "execution_count": 107,
   "metadata": {},
   "outputs": [
    {
     "name": "stdout",
     "output_type": "stream",
     "text": [
      "Métricas de Validação Regressão Linear:\n",
      "\n",
      "R2 Treinamento: 0.9999999\n",
      "R2 Teste: 0.9999991\n",
      "MSE:  1.0942348548557304e-07\n",
      "RMSE:  0.00033079220892513934\n",
      "\n",
      "Cross Validation Regressão Linear:\n",
      "\n",
      "Scores:  [1.         0.99999907 0.99999828 0.9999999  0.99999993]\n",
      "Média Scores: 0.999999\n",
      "Desvio Padrão: 0.000001\n"
     ]
    }
   ],
   "source": [
    "print('Métricas de Validação Regressão Linear:\\n')\n",
    "\n",
    "#Dados Brutos\n",
    "#metrics_validation(model_linear, x_train, y_train, x_test, y_test)\n",
    "\n",
    "#Dados Normalizados\n",
    "metrics_validation(model_linear, x_train_scal, y_train_scal, x_test_scal, y_test_scal)\n",
    "\n",
    "\n",
    "print('\\nCross Validation Regressão Linear:\\n')\n",
    "obj_list = cross_validation(model_linear, X, y, 'Linear Regression')\n",
    "\n",
    "models_list.append(obj_list)"
   ]
  },
  {
   "cell_type": "code",
   "execution_count": 108,
   "metadata": {},
   "outputs": [
    {
     "data": {
      "image/png": "[encoded data removed]",
      "text/plain": [
       "<Figure size 504x504 with 1 Axes>"
      ]
     },
     "metadata": {
      "needs_background": "light"
     },
     "output_type": "display_data"
    }
   ],
   "source": [
    "\"\"\"\n",
    "    Plotando o gráfico das predições do modelo treinando contra os reais valores esperados pelos casos de teste.\n",
    "\"\"\"\n",
    "linear_pred = model_linear.predict(x_test_scal)\n",
    "#Verificando o procesamento de cpu e memória.\n",
    "process_cust(cust_process_predict,'Linear Regression')\n",
    "\n",
    "graphics_plot(y_test_scal, linear_pred, 'Linear Regression')"
   ]
  },
  {
   "cell_type": "markdown",
   "metadata": {},
   "source": [
    "### Decision Tree"
   ]
  },
  {
   "cell_type": "code",
   "execution_count": 109,
   "metadata": {},
   "outputs": [],
   "source": [
    "from sklearn.tree import DecisionTreeRegressor"
   ]
  },
  {
   "cell_type": "code",
   "execution_count": 110,
   "metadata": {},
   "outputs": [],
   "source": [
    "tree_reg = DecisionTreeRegressor()"
   ]
  },
  {
   "cell_type": "code",
   "execution_count": 111,
   "metadata": {},
   "outputs": [],
   "source": [
    "#Dados brutos\n",
    "#tree_reg.fit(x_train, y_train)\n",
    "\n",
    "\n",
    "#Dados Normalizados\n",
    "tree_reg.fit(x_train_scal, y_train_scal)\n",
    "\n",
    "#Verificando o procesamento de cpu e memória.\n",
    "process_cust(cust_process_fit,'Decision Tree')"
   ]
  },
  {
   "cell_type": "code",
   "execution_count": 112,
   "metadata": {},
   "outputs": [
    {
     "name": "stdout",
     "output_type": "stream",
     "text": [
      "Métricas de Validação Decision Tree:\n",
      "\n",
      "R2 Treinamento: 1.0000000\n",
      "R2 Teste: 0.9744882\n",
      "MSE:  1.7408905720878726e-08\n",
      "RMSE:  0.00013194281231229964\n",
      "\n",
      "Cross Validation Decision Tree:\n",
      "\n",
      "Scores:  [0.99897624 0.92196915 0.95171562 0.92931178 0.99153901]\n",
      "Média Scores: 0.958702\n",
      "Desvio Padrão: 0.031503\n"
     ]
    }
   ],
   "source": [
    "print('Métricas de Validação Decision Tree:\\n')\n",
    "#metrics_validation(tree_reg, x_train, y_train, x_test, y_test)\n",
    "\n",
    "#Dados Normalizados\n",
    "metrics_validation(tree_reg, x_train_scal, y_train_scal, x_test_scal, y_test_scal)\n",
    "\n",
    "\n",
    "print('\\nCross Validation Decision Tree:\\n')\n",
    "obj_list = cross_validation(tree_reg, X, y, 'Decision Tree')\n",
    "\n",
    "models_list.append(obj_list)"
   ]
  },
  {
   "cell_type": "code",
   "execution_count": 113,
   "metadata": {},
   "outputs": [
    {
     "data": {
      "image/png": "[encoded data removed]",
      "text/plain": [
       "<Figure size 504x504 with 1 Axes>"
      ]
     },
     "metadata": {
      "needs_background": "light"
     },
     "output_type": "display_data"
    }
   ],
   "source": [
    "\"\"\"\n",
    "    Plotando o gráfico das predições do modelo treinando contra os reais valores esperados pelos casos de teste.\n",
    "\"\"\"\n",
    "decision_tree_pred = tree_reg.predict(x_test_scal)\n",
    "#Verificando o procesamento de cpu e memória.\n",
    "process_cust(cust_process_predict,'Decision Tree')\n",
    "\n",
    "graphics_plot(y_test_scal, decision_tree_pred, 'Decision Tree')\n",
    "\n"
   ]
  },
  {
   "cell_type": "code",
   "execution_count": null,
   "metadata": {},
   "outputs": [],
   "source": []
  },
  {
   "cell_type": "markdown",
   "metadata": {},
   "source": [
    "### Random Forest"
   ]
  },
  {
   "cell_type": "code",
   "execution_count": 114,
   "metadata": {},
   "outputs": [],
   "source": [
    "from sklearn.ensemble import RandomForestRegressor"
   ]
  },
  {
   "cell_type": "code",
   "execution_count": 115,
   "metadata": {},
   "outputs": [],
   "source": [
    "forest_reg = RandomForestRegressor()"
   ]
  },
  {
   "cell_type": "code",
   "execution_count": 116,
   "metadata": {},
   "outputs": [
    {
     "name": "stderr",
     "output_type": "stream",
     "text": [
      "/home/thales/anaconda3/lib/python3.7/site-packages/ipykernel_launcher.py:5: DataConversionWarning: A column-vector y was passed when a 1d array was expected. Please change the shape of y to (n_samples,), for example using ravel().\n",
      "  \"\"\"\n"
     ]
    }
   ],
   "source": [
    "#Dados Brutos\n",
    "#forest_reg.fit(x_train, y_train)\n",
    "\n",
    "#Dados Normalizados\n",
    "forest_reg.fit(x_train_scal, y_train_scal)\n",
    "\n",
    "#Verificando o procesamento de cpu e memória.\n",
    "process_cust(cust_process_fit,'Random Forest')"
   ]
  },
  {
   "cell_type": "code",
   "execution_count": 117,
   "metadata": {},
   "outputs": [
    {
     "name": "stdout",
     "output_type": "stream",
     "text": [
      "Métricas de Validação Random Forest:\n",
      "\n",
      "R2 Treinamento: 0.9760231\n",
      "R2 Teste: 0.9461833\n",
      "MSE:  0.02397690863114033\n",
      "RMSE:  0.1548447888407625\n",
      "\n",
      "Cross Validation Random Forest:\n",
      "\n"
     ]
    },
    {
     "name": "stderr",
     "output_type": "stream",
     "text": [
      "/home/thales/anaconda3/lib/python3.7/site-packages/sklearn/model_selection/_validation.py:515: DataConversionWarning: A column-vector y was passed when a 1d array was expected. Please change the shape of y to (n_samples,), for example using ravel().\n",
      "  estimator.fit(X_train, y_train, **fit_params)\n",
      "/home/thales/anaconda3/lib/python3.7/site-packages/sklearn/model_selection/_validation.py:515: DataConversionWarning: A column-vector y was passed when a 1d array was expected. Please change the shape of y to (n_samples,), for example using ravel().\n",
      "  estimator.fit(X_train, y_train, **fit_params)\n",
      "/home/thales/anaconda3/lib/python3.7/site-packages/sklearn/model_selection/_validation.py:515: DataConversionWarning: A column-vector y was passed when a 1d array was expected. Please change the shape of y to (n_samples,), for example using ravel().\n",
      "  estimator.fit(X_train, y_train, **fit_params)\n",
      "/home/thales/anaconda3/lib/python3.7/site-packages/sklearn/model_selection/_validation.py:515: DataConversionWarning: A column-vector y was passed when a 1d array was expected. Please change the shape of y to (n_samples,), for example using ravel().\n",
      "  estimator.fit(X_train, y_train, **fit_params)\n",
      "/home/thales/anaconda3/lib/python3.7/site-packages/sklearn/model_selection/_validation.py:515: DataConversionWarning: A column-vector y was passed when a 1d array was expected. Please change the shape of y to (n_samples,), for example using ravel().\n",
      "  estimator.fit(X_train, y_train, **fit_params)\n"
     ]
    },
    {
     "name": "stdout",
     "output_type": "stream",
     "text": [
      "Scores:  [0.9097744  0.88067408 0.92642466 0.81975117 0.99558618]\n",
      "Média Scores: 0.906442\n",
      "Desvio Padrão: 0.057509\n"
     ]
    }
   ],
   "source": [
    "print('Métricas de Validação Random Forest:\\n')\n",
    "#Dados Brutos\n",
    "#metrics_validation(forest_reg, x_train, y_train, x_test, y_test)\n",
    "\n",
    "#Dados Normalizados\n",
    "metrics_validation(forest_reg, x_train_scal, y_train_scal, x_test_scal, y_test_scal)\n",
    "\n",
    "\n",
    "print('\\nCross Validation Random Forest:\\n')\n",
    "obj_list = cross_validation(forest_reg, X, y, 'Random Forest')\n",
    "\n",
    "models_list.append(obj_list)"
   ]
  },
  {
   "cell_type": "code",
   "execution_count": 118,
   "metadata": {},
   "outputs": [
    {
     "data": {
      "image/png": "[encoded data removed]",
      "text/plain": [
       "<Figure size 504x504 with 1 Axes>"
      ]
     },
     "metadata": {
      "needs_background": "light"
     },
     "output_type": "display_data"
    }
   ],
   "source": [
    "\"\"\"\n",
    "    Plotando o gráfico das predições do modelo treinando contra os reais valores esperados pelos casos de teste.\n",
    "\"\"\"\n",
    "random_forest_pred = forest_reg.predict(x_test_scal)\n",
    "\n",
    "#Verificando o procesamento de cpu e memória.\n",
    "process_cust(cust_process_predict,'Random Forest')\n",
    "\n",
    "graphics_plot(y_test_scal, random_forest_pred, 'Random Forest')\n",
    "\n"
   ]
  },
  {
   "cell_type": "code",
   "execution_count": null,
   "metadata": {},
   "outputs": [],
   "source": []
  },
  {
   "cell_type": "markdown",
   "metadata": {},
   "source": [
    "### ElasticNet"
   ]
  },
  {
   "cell_type": "code",
   "execution_count": 119,
   "metadata": {},
   "outputs": [],
   "source": [
    "from sklearn.linear_model  import ElasticNet"
   ]
  },
  {
   "cell_type": "code",
   "execution_count": 120,
   "metadata": {},
   "outputs": [],
   "source": [
    "reg_net = ElasticNet()"
   ]
  },
  {
   "cell_type": "code",
   "execution_count": 121,
   "metadata": {},
   "outputs": [],
   "source": [
    "#Dados Brutos\n",
    "#reg_net.fit(x_train, y_train)\n",
    "\n",
    "\n",
    "#Dados Normalizados\n",
    "reg_net.fit(x_train_scal, y_train_scal)\n",
    "\n",
    "\n",
    "#Verificando o procesamento de cpu e memória.\n",
    "process_cust(cust_process_fit,'Elastic Net')"
   ]
  },
  {
   "cell_type": "code",
   "execution_count": 122,
   "metadata": {},
   "outputs": [
    {
     "name": "stdout",
     "output_type": "stream",
     "text": [
      "Métricas de Validação ElasticNet:\n",
      "\n",
      "R2 Treinamento: 0.4972440\n",
      "R2 Teste: 0.2729248\n",
      "MSE:  0.5027560260886628\n",
      "RMSE:  0.7090529078204691\n",
      "\n",
      "Cross Validation ElasticNet:\n",
      "\n",
      "Scores:  [0.8913778  0.62030313 0.6437166  0.83159771 0.23946813]\n",
      "Média Scores: 0.645293\n",
      "Desvio Padrão: 0.228293\n"
     ]
    }
   ],
   "source": [
    "print('Métricas de Validação ElasticNet:\\n')\n",
    "#Dados Brutos\n",
    "#metrics_validation(reg_net, x_train, y_train, x_test, y_test)\n",
    "\n",
    "#Dados Normalizados\n",
    "metrics_validation(reg_net, x_train_scal, y_train_scal, x_test_scal, y_test_scal)\n",
    "\n",
    "\n",
    "\n",
    "print('\\nCross Validation ElasticNet:\\n')\n",
    "obj_list = cross_validation(reg_net, X, y, 'ElasticNet')\n",
    "\n",
    "models_list.append(obj_list)"
   ]
  },
  {
   "cell_type": "code",
   "execution_count": 123,
   "metadata": {},
   "outputs": [
    {
     "data": {
      "image/png": "[encoded data removed]",
      "text/plain": [
       "<Figure size 504x504 with 1 Axes>"
      ]
     },
     "metadata": {
      "needs_background": "light"
     },
     "output_type": "display_data"
    }
   ],
   "source": [
    "\"\"\"\n",
    "    Plotando o gráfico das predições do modelo treinando contra os reais valores esperados pelos casos de teste.\n",
    "\"\"\"\n",
    "elastic_net_pred = reg_net.predict(x_test_scal)\n",
    "#Verificando o procesamento de cpu e memória.\n",
    "process_cust(cust_process_predict,'Elastic Net')\n",
    "\n",
    "graphics_plot(y_test_scal, elastic_net_pred, 'Elastic Net')\n",
    "\n"
   ]
  },
  {
   "cell_type": "markdown",
   "metadata": {},
   "source": [
    "### SVM Regressão(SVR)"
   ]
  },
  {
   "cell_type": "code",
   "execution_count": 124,
   "metadata": {},
   "outputs": [],
   "source": [
    "from sklearn.svm import SVR"
   ]
  },
  {
   "cell_type": "code",
   "execution_count": 125,
   "metadata": {},
   "outputs": [],
   "source": [
    "svr_model = SVR(kernel='poly', degree=3, C=100, epsilon=0.1, coef0=1)"
   ]
  },
  {
   "cell_type": "code",
   "execution_count": 126,
   "metadata": {},
   "outputs": [
    {
     "name": "stderr",
     "output_type": "stream",
     "text": [
      "/home/thales/anaconda3/lib/python3.7/site-packages/sklearn/utils/validation.py:760: DataConversionWarning: A column-vector y was passed when a 1d array was expected. Please change the shape of y to (n_samples, ), for example using ravel().\n",
      "  y = column_or_1d(y, warn=True)\n"
     ]
    }
   ],
   "source": [
    "#Dados Brutos\n",
    "#svr_model.fit(x_train, y_train)\n",
    "\n",
    "#Dados Normalizados\n",
    "svr_model.fit(x_train_scal, y_train_scal)\n",
    "\n",
    "#Verificando o procesamento de cpu e memória.\n",
    "process_cust(cust_process_fit,'SVR')"
   ]
  },
  {
   "cell_type": "code",
   "execution_count": 127,
   "metadata": {},
   "outputs": [
    {
     "name": "stdout",
     "output_type": "stream",
     "text": [
      "Métricas de Validação SVR:\n",
      "\n",
      "R2 Treinamento: 0.9963913\n",
      "R2 Teste: 0.9460883\n",
      "MSE:  0.0036087388457557643\n",
      "RMSE:  0.060072779574078014\n",
      "\n",
      "Cross Validation SVR:\n",
      "\n"
     ]
    },
    {
     "name": "stderr",
     "output_type": "stream",
     "text": [
      "/home/thales/anaconda3/lib/python3.7/site-packages/sklearn/utils/validation.py:760: DataConversionWarning: A column-vector y was passed when a 1d array was expected. Please change the shape of y to (n_samples, ), for example using ravel().\n",
      "  y = column_or_1d(y, warn=True)\n",
      "/home/thales/anaconda3/lib/python3.7/site-packages/sklearn/utils/validation.py:760: DataConversionWarning: A column-vector y was passed when a 1d array was expected. Please change the shape of y to (n_samples, ), for example using ravel().\n",
      "  y = column_or_1d(y, warn=True)\n",
      "/home/thales/anaconda3/lib/python3.7/site-packages/sklearn/utils/validation.py:760: DataConversionWarning: A column-vector y was passed when a 1d array was expected. Please change the shape of y to (n_samples, ), for example using ravel().\n",
      "  y = column_or_1d(y, warn=True)\n",
      "/home/thales/anaconda3/lib/python3.7/site-packages/sklearn/utils/validation.py:760: DataConversionWarning: A column-vector y was passed when a 1d array was expected. Please change the shape of y to (n_samples, ), for example using ravel().\n",
      "  y = column_or_1d(y, warn=True)\n",
      "/home/thales/anaconda3/lib/python3.7/site-packages/sklearn/utils/validation.py:760: DataConversionWarning: A column-vector y was passed when a 1d array was expected. Please change the shape of y to (n_samples, ), for example using ravel().\n",
      "  y = column_or_1d(y, warn=True)\n"
     ]
    },
    {
     "name": "stdout",
     "output_type": "stream",
     "text": [
      "Scores:  [0.99854134 0.9175887  0.9418608  0.84864899 0.95028447]\n",
      "Média Scores: 0.931385\n",
      "Desvio Padrão: 0.049015\n"
     ]
    }
   ],
   "source": [
    "print('Métricas de Validação SVR:\\n')\n",
    "\n",
    "#Dados Brutos\n",
    "#metrics_validation(svr_model, x_train, y_train, x_test, y_test)\n",
    "\n",
    "#Dados Normalizados\n",
    "metrics_validation(svr_model, x_train_scal, y_train_scal, x_test_scal, y_test_scal)\n",
    "\n",
    "print('\\nCross Validation SVR:\\n')\n",
    "obj_list = cross_validation(svr_model, X, y, 'SVR')\n",
    "\n",
    "models_list.append(obj_list)"
   ]
  },
  {
   "cell_type": "code",
   "execution_count": 128,
   "metadata": {},
   "outputs": [
    {
     "data": {
      "image/png": "[encoded data removed]",
      "text/plain": [
       "<Figure size 504x504 with 1 Axes>"
      ]
     },
     "metadata": {
      "needs_background": "light"
     },
     "output_type": "display_data"
    }
   ],
   "source": [
    "\"\"\"\n",
    "    Plotando o gráfico das predições do modelo treinando contra os reais valores esperados pelos casos de teste.\n",
    "\"\"\"\n",
    "\n",
    "\n",
    "svr_pred = svr_model.predict(x_test_scal)\n",
    "#Verificando o procesamento de cpu e memória.\n",
    "process_cust(cust_process_predict,'SVR')\n",
    "\n",
    "graphics_plot(y_test_scal, svr_pred, 'SVR')\n",
    "\n"
   ]
  },
  {
   "cell_type": "markdown",
   "metadata": {},
   "source": [
    "Consultando a lista com os modelos e seus respectivos scores, utilizando a técnica de cross-validation."
   ]
  },
  {
   "cell_type": "code",
   "execution_count": 129,
   "metadata": {},
   "outputs": [
    {
     "data": {
      "text/plain": [
       "[{'nome': 'Linear Regression', 'score': 0.999999433765327},\n",
       " {'nome': 'Decision Tree', 'score': 0.9587023599719103},\n",
       " {'nome': 'SVR', 'score': 0.9313848580070079},\n",
       " {'nome': 'Random Forest', 'score': 0.9064421000354441},\n",
       " {'nome': 'ElasticNet', 'score': 0.6452926749381399}]"
      ]
     },
     "execution_count": 129,
     "metadata": {},
     "output_type": "execute_result"
    }
   ],
   "source": [
    "models_list = sorted(models_list, key=lambda k: k['score'], reverse=True) \n",
    "models_list"
   ]
  },
  {
   "cell_type": "markdown",
   "metadata": {},
   "source": [
    "\n",
    "Ao se fazer a verificação dos scores obtidos com o cross-validation nos modelos de machine learning utilizados, verifica-se que o modelo que obteve maior sucesso foi o modelo de regressão linear."
   ]
  },
  {
   "cell_type": "markdown",
   "metadata": {},
   "source": [
    "Verificando os valores de custo de processamento e memória:"
   ]
  },
  {
   "cell_type": "code",
   "execution_count": 130,
   "metadata": {},
   "outputs": [],
   "source": [
    "[process_fit_list_cpu, process_fit_list_ram] = [sorted(cust_process_fit, key=lambda k:k['cpu']), sorted(cust_process_fit, key=lambda k:k['ram_memory'])]\n",
    "[process_predict_list_cpu, process_predict_list_ram] = [sorted(cust_process_predict, key=lambda k:k['cpu']), sorted(cust_process_predict, key=lambda k:k['ram_memory'])]"
   ]
  },
  {
   "cell_type": "code",
   "execution_count": 131,
   "metadata": {},
   "outputs": [],
   "source": [
    "\"\"\"\n",
    "    Função para visualização dos dados em gráfico de barra.\n",
    "\"\"\"\n",
    "\n",
    "def graphic_bar(list_process, value, name_arr):\n",
    "    fig=plt.figure(figsize=(10,7))\n",
    "    name=[]\n",
    "    value_l=[]\n",
    "    type_val =  1 if value == 'cpu' else 2\n",
    "    for i in list_process:\n",
    "        name.append(list(i.values())[0])    \n",
    "        value_l.append(list(i.values())[type_val])\n",
    "    plt.bar(name, value_l)\n",
    "    plt.savefig('graphics-{}.png'.format(name_arr), format='png')\n",
    "    plt.show()"
   ]
  },
  {
   "cell_type": "code",
   "execution_count": 132,
   "metadata": {},
   "outputs": [
    {
     "name": "stdout",
     "output_type": "stream",
     "text": [
      "Treinamento - Classificação por cpu(menos custoso para o mais custoso)\n"
     ]
    },
    {
     "data": {
      "text/plain": [
       "[{'model': 'Elastic Net', 'cpu': 18.0, 'ram_memory': 34.3},\n",
       " {'model': 'Linear Regression', 'cpu': 22.8, 'ram_memory': 34.0},\n",
       " {'model': 'Random Forest', 'cpu': 31.8, 'ram_memory': 34.1},\n",
       " {'model': 'SVR', 'cpu': 32.0, 'ram_memory': 34.5},\n",
       " {'model': 'Decision Tree', 'cpu': 32.2, 'ram_memory': 34.0}]"
      ]
     },
     "execution_count": 132,
     "metadata": {},
     "output_type": "execute_result"
    }
   ],
   "source": [
    "print('Treinamento - Classificação por cpu(menos custoso para o mais custoso)')\n",
    "process_fit_list_cpu\n"
   ]
  },
  {
   "cell_type": "code",
   "execution_count": 133,
   "metadata": {},
   "outputs": [
    {
     "data": {
      "text/plain": [
       "[{'model': 'Linear Regression', 'cpu': 22.8, 'ram_memory': 34.0},\n",
       " {'model': 'Decision Tree', 'cpu': 32.2, 'ram_memory': 34.0},\n",
       " {'model': 'Random Forest', 'cpu': 31.8, 'ram_memory': 34.1},\n",
       " {'model': 'Elastic Net', 'cpu': 18.0, 'ram_memory': 34.3},\n",
       " {'model': 'SVR', 'cpu': 32.0, 'ram_memory': 34.5}]"
      ]
     },
     "execution_count": 133,
     "metadata": {},
     "output_type": "execute_result"
    }
   ],
   "source": [
    "cust_process_fit"
   ]
  },
  {
   "cell_type": "code",
   "execution_count": 134,
   "metadata": {},
   "outputs": [
    {
     "data": {
      "text/plain": [
       "[{'model': 'Linear Regression', 'cpu': 35.6, 'ram_memory': 34.0},\n",
       " {'model': 'Decision Tree', 'cpu': 38.1, 'ram_memory': 34.0},\n",
       " {'model': 'Random Forest', 'cpu': 39.6, 'ram_memory': 34.3},\n",
       " {'model': 'Elastic Net', 'cpu': 32.5, 'ram_memory': 34.4},\n",
       " {'model': 'SVR', 'cpu': 38.1, 'ram_memory': 34.2}]"
      ]
     },
     "execution_count": 134,
     "metadata": {},
     "output_type": "execute_result"
    }
   ],
   "source": [
    "cust_process_predict"
   ]
  },
  {
   "cell_type": "code",
   "execution_count": 135,
   "metadata": {},
   "outputs": [
    {
     "data": {
      "image/png": "[encoded data removed]",
      "text/plain": [
       "<Figure size 720x504 with 1 Axes>"
      ]
     },
     "metadata": {
      "needs_background": "light"
     },
     "output_type": "display_data"
    }
   ],
   "source": [
    "graphic_bar(process_fit_list_cpu, 'cpu', 'treinamentoProcessador')"
   ]
  },
  {
   "cell_type": "code",
   "execution_count": null,
   "metadata": {},
   "outputs": [],
   "source": []
  },
  {
   "cell_type": "code",
   "execution_count": 136,
   "metadata": {},
   "outputs": [
    {
     "name": "stdout",
     "output_type": "stream",
     "text": [
      "Treinamento - Classificação por ram(menos custoso para o mais custoso)\n"
     ]
    },
    {
     "data": {
      "text/plain": [
       "[{'model': 'Linear Regression', 'cpu': 22.8, 'ram_memory': 34.0},\n",
       " {'model': 'Decision Tree', 'cpu': 32.2, 'ram_memory': 34.0},\n",
       " {'model': 'Random Forest', 'cpu': 31.8, 'ram_memory': 34.1},\n",
       " {'model': 'Elastic Net', 'cpu': 18.0, 'ram_memory': 34.3},\n",
       " {'model': 'SVR', 'cpu': 32.0, 'ram_memory': 34.5}]"
      ]
     },
     "execution_count": 136,
     "metadata": {},
     "output_type": "execute_result"
    }
   ],
   "source": [
    "print('Treinamento - Classificação por ram(menos custoso para o mais custoso)')\n",
    "process_fit_list_ram"
   ]
  },
  {
   "cell_type": "code",
   "execution_count": 137,
   "metadata": {},
   "outputs": [
    {
     "data": {
      "image/png": "[encoded data removed]",
      "text/plain": [
       "<Figure size 720x504 with 1 Axes>"
      ]
     },
     "metadata": {
      "needs_background": "light"
     },
     "output_type": "display_data"
    }
   ],
   "source": [
    "graphic_bar(process_fit_list_ram, 'ram', 'treinamentoMemoria')"
   ]
  },
  {
   "cell_type": "code",
   "execution_count": 138,
   "metadata": {},
   "outputs": [
    {
     "name": "stdout",
     "output_type": "stream",
     "text": [
      "Predição - Classificação por cpu(menos custoso para o mais custoso)\n"
     ]
    },
    {
     "data": {
      "text/plain": [
       "[{'model': 'Elastic Net', 'cpu': 32.5, 'ram_memory': 34.4},\n",
       " {'model': 'Linear Regression', 'cpu': 35.6, 'ram_memory': 34.0},\n",
       " {'model': 'Decision Tree', 'cpu': 38.1, 'ram_memory': 34.0},\n",
       " {'model': 'SVR', 'cpu': 38.1, 'ram_memory': 34.2},\n",
       " {'model': 'Random Forest', 'cpu': 39.6, 'ram_memory': 34.3}]"
      ]
     },
     "execution_count": 138,
     "metadata": {},
     "output_type": "execute_result"
    }
   ],
   "source": [
    "print('Predição - Classificação por cpu(menos custoso para o mais custoso)')\n",
    "process_predict_list_cpu"
   ]
  },
  {
   "cell_type": "code",
   "execution_count": 139,
   "metadata": {},
   "outputs": [
    {
     "data": {
      "image/png": "[encoded data removed]",
      "text/plain": [
       "<Figure size 720x504 with 1 Axes>"
      ]
     },
     "metadata": {
      "needs_background": "light"
     },
     "output_type": "display_data"
    }
   ],
   "source": [
    "graphic_bar(process_predict_list_cpu, 'cpu', 'testeProcessador')"
   ]
  },
  {
   "cell_type": "code",
   "execution_count": 140,
   "metadata": {},
   "outputs": [
    {
     "name": "stdout",
     "output_type": "stream",
     "text": [
      "Predição - Classificação por ram(menos custoso para o mais custoso)\n"
     ]
    },
    {
     "data": {
      "text/plain": [
       "[{'model': 'Linear Regression', 'cpu': 35.6, 'ram_memory': 34.0},\n",
       " {'model': 'Decision Tree', 'cpu': 38.1, 'ram_memory': 34.0},\n",
       " {'model': 'SVR', 'cpu': 38.1, 'ram_memory': 34.2},\n",
       " {'model': 'Random Forest', 'cpu': 39.6, 'ram_memory': 34.3},\n",
       " {'model': 'Elastic Net', 'cpu': 32.5, 'ram_memory': 34.4}]"
      ]
     },
     "execution_count": 140,
     "metadata": {},
     "output_type": "execute_result"
    }
   ],
   "source": [
    "print('Predição - Classificação por ram(menos custoso para o mais custoso)')\n",
    "process_predict_list_ram"
   ]
  },
  {
   "cell_type": "code",
   "execution_count": 141,
   "metadata": {},
   "outputs": [
    {
     "data": {
      "image/png": "[encoded data removed]",
      "text/plain": [
       "<Figure size 720x504 with 1 Axes>"
      ]
     },
     "metadata": {
      "needs_background": "light"
     },
     "output_type": "display_data"
    }
   ],
   "source": [
    "graphic_bar(process_predict_list_ram, 'ram', 'testeMemoria')"
   ]
  },
  {
   "cell_type": "markdown",
   "metadata": {},
   "source": [
    "# Modelos de Redes Neurais"
   ]
  },
  {
   "cell_type": "markdown",
   "metadata": {},
   "source": [
    "* MLP"
   ]
  },
  {
   "cell_type": "code",
   "execution_count": 142,
   "metadata": {},
   "outputs": [],
   "source": [
    "import tensorflow as tf\n",
    "from tensorflow import keras\n",
    "from tensorflow.keras import layers\n",
    "\n",
    "from tensorflow.keras.models import Sequential\n",
    "from tensorflow.keras.layers import Dense, SimpleRNN, LSTM"
   ]
  },
  {
   "cell_type": "markdown",
   "metadata": {},
   "source": [
    "### MLP"
   ]
  },
  {
   "cell_type": "code",
   "execution_count": 143,
   "metadata": {},
   "outputs": [],
   "source": [
    "learning_rate = 0.001\n",
    "# batch_size = 256\n",
    "epochs_value = 150"
   ]
  },
  {
   "cell_type": "code",
   "execution_count": 144,
   "metadata": {},
   "outputs": [],
   "source": [
    "# def build_models():\n",
    "#     model = keras.Sequential([\n",
    "#         layers.Dense(64, activation='relu', input_shape=[x_train.shape[1]]),\n",
    "#         layers.Dense(64, activation='relu'),\n",
    "#         layers.Dense(1)\n",
    "#     ])\n",
    "    \n",
    "#     optimizer = keras.optimizers.RMSprop(0.01)\n",
    "    \n",
    "#     model.compile(\n",
    "#                     loss='mse',\n",
    "#                     optimizer=optimizer,\n",
    "#                     metrics=['mae', 'mse']\n",
    "#                  )\n",
    "    \n",
    "#     return model"
   ]
  },
  {
   "cell_type": "markdown",
   "metadata": {},
   "source": [
    "Melhores funções de ativação para a camada de saída:\n",
    "* SELU\n",
    "* SOFTPLUS\n",
    "* SWISH"
   ]
  },
  {
   "cell_type": "code",
   "execution_count": 145,
   "metadata": {},
   "outputs": [],
   "source": [
    "\"\"\"\n",
    "    Configuração da Rede MLP:\n",
    "    -> Rede MLP utilizando uma camada de entrada com o tamanho da entrada igual à \n",
    "       quantidade de variáveis no dataset de entrada;\n",
    "    -> Uma camada oculta da rede;\n",
    "    -> Camada de saída com apenas 1 valor, igual a dimensionalidade do valor de saída do dataset;\n",
    "    \n",
    "    Em que:\n",
    "    * Quantidade de épocas setadas na variável epochs_value\n",
    "    * Taxa de aprendizado da rede está setada na variável learning_rate\n",
    "    * Função de ativação na camada de saída ELU => Exponential Linear Unit\n",
    "\"\"\"\n",
    "\n",
    "model_mlp = Sequential()\n",
    "model_mlp.add(Dense(32, input_shape=[x_train_scal.shape[1]], activation='relu'))\n",
    "model_mlp.add(Dense(16, activation='relu'))\n",
    "model_mlp.add(Dense(y_train_scal.shape[1], activation='softplus'))#activation='swish'))#activation='selu'))#activation='softplus'))"
   ]
  },
  {
   "cell_type": "code",
   "execution_count": 146,
   "metadata": {},
   "outputs": [
    {
     "name": "stdout",
     "output_type": "stream",
     "text": [
      "Model: \"sequential\"\n",
      "_________________________________________________________________\n",
      "Layer (type)                 Output Shape              Param #   \n",
      "=================================================================\n",
      "dense (Dense)                (None, 32)                416       \n",
      "_________________________________________________________________\n",
      "dense_1 (Dense)              (None, 16)                528       \n",
      "_________________________________________________________________\n",
      "dense_2 (Dense)              (None, 1)                 17        \n",
      "=================================================================\n",
      "Total params: 961\n",
      "Trainable params: 961\n",
      "Non-trainable params: 0\n",
      "_________________________________________________________________\n"
     ]
    }
   ],
   "source": [
    "model_mlp.summary()"
   ]
  },
  {
   "cell_type": "code",
   "execution_count": 147,
   "metadata": {},
   "outputs": [],
   "source": [
    "model_mlp.compile(optimizer=keras.optimizers.RMSprop(learning_rate),loss='mse', metrics=['mae','mse'])"
   ]
  },
  {
   "cell_type": "code",
   "execution_count": 148,
   "metadata": {},
   "outputs": [
    {
     "name": "stdout",
     "output_type": "stream",
     "text": [
      "Epoch 1/150\n",
      "188/188 [==============================] - 1s 6ms/step - loss: 0.7219 - mae: 0.3108 - mse: 0.7219 - val_loss: 2.4190 - val_mae: 0.1875 - val_mse: 2.4190\n",
      "Epoch 2/150\n",
      "188/188 [==============================] - 1s 4ms/step - loss: 0.6041 - mae: 0.1413 - mse: 0.6041 - val_loss: 2.3812 - val_mae: 0.1762 - val_mse: 2.3812\n",
      "Epoch 3/150\n",
      "188/188 [==============================] - 1s 4ms/step - loss: 0.5723 - mae: 0.1340 - mse: 0.5723 - val_loss: 1.8357 - val_mae: 0.1644 - val_mse: 1.8357\n",
      "Epoch 4/150\n",
      "188/188 [==============================] - 1s 4ms/step - loss: 0.3551 - mae: 0.1288 - mse: 0.3551 - val_loss: 1.2029 - val_mae: 0.1531 - val_mse: 1.2029\n",
      "Epoch 5/150\n",
      "188/188 [==============================] - 1s 4ms/step - loss: 0.3049 - mae: 0.1252 - mse: 0.3049 - val_loss: 0.9752 - val_mae: 0.1467 - val_mse: 0.9752\n",
      "Epoch 6/150\n",
      "188/188 [==============================] - 1s 4ms/step - loss: 0.2203 - mae: 0.1224 - mse: 0.2203 - val_loss: 0.6836 - val_mae: 0.1411 - val_mse: 0.6836\n",
      "Epoch 7/150\n",
      "188/188 [==============================] - 1s 4ms/step - loss: 0.1874 - mae: 0.1200 - mse: 0.1874 - val_loss: 0.5559 - val_mae: 0.1442 - val_mse: 0.5559\n",
      "Epoch 8/150\n",
      "188/188 [==============================] - 1s 3ms/step - loss: 0.1540 - mae: 0.1183 - mse: 0.1540 - val_loss: 0.4063 - val_mae: 0.1329 - val_mse: 0.4063\n",
      "Epoch 9/150\n",
      "188/188 [==============================] - 1s 4ms/step - loss: 0.0750 - mae: 0.1159 - mse: 0.0750 - val_loss: 0.1829 - val_mae: 0.1298 - val_mse: 0.1829\n",
      "Epoch 10/150\n",
      "188/188 [==============================] - 1s 4ms/step - loss: 0.0431 - mae: 0.1135 - mse: 0.0431 - val_loss: 0.0790 - val_mae: 0.1216 - val_mse: 0.0790\n",
      "Epoch 11/150\n",
      "188/188 [==============================] - 1s 4ms/step - loss: 0.0342 - mae: 0.1124 - mse: 0.0342 - val_loss: 0.0547 - val_mae: 0.1209 - val_mse: 0.0547\n",
      "Epoch 12/150\n",
      "188/188 [==============================] - 1s 4ms/step - loss: 0.0272 - mae: 0.1115 - mse: 0.0272 - val_loss: 0.0330 - val_mae: 0.1169 - val_mse: 0.0330\n",
      "Epoch 13/150\n",
      "188/188 [==============================] - 1s 4ms/step - loss: 0.0231 - mae: 0.1109 - mse: 0.0231 - val_loss: 0.0251 - val_mae: 0.1154 - val_mse: 0.0251\n",
      "Epoch 14/150\n",
      "188/188 [==============================] - 1s 4ms/step - loss: 0.0210 - mae: 0.1100 - mse: 0.0210 - val_loss: 0.0238 - val_mae: 0.1197 - val_mse: 0.0238\n",
      "Epoch 15/150\n",
      "188/188 [==============================] - 1s 4ms/step - loss: 0.0187 - mae: 0.1094 - mse: 0.0187 - val_loss: 0.0205 - val_mae: 0.1136 - val_mse: 0.0205\n",
      "Epoch 16/150\n",
      "188/188 [==============================] - 1s 4ms/step - loss: 0.0185 - mae: 0.1089 - mse: 0.0185 - val_loss: 0.0200 - val_mae: 0.1126 - val_mse: 0.0200\n",
      "Epoch 17/150\n",
      "188/188 [==============================] - 1s 4ms/step - loss: 0.0185 - mae: 0.1085 - mse: 0.0185 - val_loss: 0.0268 - val_mae: 0.1138 - val_mse: 0.0268\n",
      "Epoch 18/150\n",
      "188/188 [==============================] - 1s 4ms/step - loss: 0.0180 - mae: 0.1077 - mse: 0.0180 - val_loss: 0.0226 - val_mae: 0.1162 - val_mse: 0.0226\n",
      "Epoch 19/150\n",
      "188/188 [==============================] - 1s 4ms/step - loss: 0.0196 - mae: 0.1080 - mse: 0.0196 - val_loss: 0.0195 - val_mae: 0.1122 - val_mse: 0.0195\n",
      "Epoch 20/150\n",
      "188/188 [==============================] - 1s 3ms/step - loss: 0.0192 - mae: 0.1075 - mse: 0.0192 - val_loss: 0.0194 - val_mae: 0.1116 - val_mse: 0.0194\n",
      "Epoch 21/150\n",
      "188/188 [==============================] - 1s 4ms/step - loss: 0.0180 - mae: 0.1068 - mse: 0.0180 - val_loss: 0.0209 - val_mae: 0.1136 - val_mse: 0.0209\n",
      "Epoch 22/150\n",
      "188/188 [==============================] - 1s 3ms/step - loss: 0.0180 - mae: 0.1068 - mse: 0.0180 - val_loss: 0.0210 - val_mae: 0.1110 - val_mse: 0.0210\n",
      "Epoch 23/150\n",
      "188/188 [==============================] - 1s 4ms/step - loss: 0.0182 - mae: 0.1065 - mse: 0.0182 - val_loss: 0.0231 - val_mae: 0.1121 - val_mse: 0.0231\n",
      "Epoch 24/150\n",
      "188/188 [==============================] - 1s 4ms/step - loss: 0.0185 - mae: 0.1063 - mse: 0.0185 - val_loss: 0.0244 - val_mae: 0.1117 - val_mse: 0.0244\n",
      "Epoch 25/150\n",
      "188/188 [==============================] - 1s 3ms/step - loss: 0.0181 - mae: 0.1061 - mse: 0.0181 - val_loss: 0.0284 - val_mae: 0.1132 - val_mse: 0.0284\n",
      "Epoch 26/150\n",
      "188/188 [==============================] - 1s 4ms/step - loss: 0.0185 - mae: 0.1060 - mse: 0.0185 - val_loss: 0.0237 - val_mae: 0.1126 - val_mse: 0.0237\n",
      "Epoch 27/150\n",
      "188/188 [==============================] - 1s 4ms/step - loss: 0.0185 - mae: 0.1058 - mse: 0.0185 - val_loss: 0.0237 - val_mae: 0.1155 - val_mse: 0.0237\n",
      "Epoch 28/150\n",
      "188/188 [==============================] - 1s 4ms/step - loss: 0.0180 - mae: 0.1057 - mse: 0.0180 - val_loss: 0.0235 - val_mae: 0.1114 - val_mse: 0.0235\n",
      "Epoch 29/150\n",
      "188/188 [==============================] - 1s 4ms/step - loss: 0.0180 - mae: 0.1056 - mse: 0.0180 - val_loss: 0.0288 - val_mae: 0.1125 - val_mse: 0.0288\n",
      "Epoch 30/150\n",
      "188/188 [==============================] - 1s 4ms/step - loss: 0.0180 - mae: 0.1054 - mse: 0.0180 - val_loss: 0.0288 - val_mae: 0.1136 - val_mse: 0.0288\n",
      "Epoch 31/150\n",
      "188/188 [==============================] - 1s 4ms/step - loss: 0.0179 - mae: 0.1053 - mse: 0.0179 - val_loss: 0.0323 - val_mae: 0.1134 - val_mse: 0.0323\n",
      "Epoch 32/150\n",
      "188/188 [==============================] - 1s 4ms/step - loss: 0.0181 - mae: 0.1054 - mse: 0.0181 - val_loss: 0.0299 - val_mae: 0.1126 - val_mse: 0.0299\n",
      "Epoch 33/150\n",
      "188/188 [==============================] - 1s 4ms/step - loss: 0.0181 - mae: 0.1051 - mse: 0.0181 - val_loss: 0.0314 - val_mae: 0.1131 - val_mse: 0.0314\n",
      "Epoch 34/150\n",
      "188/188 [==============================] - 1s 4ms/step - loss: 0.0179 - mae: 0.1051 - mse: 0.0179 - val_loss: 0.0456 - val_mae: 0.1196 - val_mse: 0.0456\n",
      "Epoch 35/150\n",
      "188/188 [==============================] - 1s 4ms/step - loss: 0.0186 - mae: 0.1052 - mse: 0.0186 - val_loss: 0.0368 - val_mae: 0.1124 - val_mse: 0.0368\n",
      "Epoch 36/150\n",
      "188/188 [==============================] - 1s 4ms/step - loss: 0.0187 - mae: 0.1050 - mse: 0.0187 - val_loss: 0.0368 - val_mae: 0.1167 - val_mse: 0.0368\n",
      "Epoch 37/150\n",
      "188/188 [==============================] - 1s 3ms/step - loss: 0.0184 - mae: 0.1050 - mse: 0.0184 - val_loss: 0.0353 - val_mae: 0.1144 - val_mse: 0.0353\n",
      "Epoch 38/150\n",
      "188/188 [==============================] - 1s 4ms/step - loss: 0.0182 - mae: 0.1048 - mse: 0.0182 - val_loss: 0.0392 - val_mae: 0.1152 - val_mse: 0.0392\n",
      "Epoch 39/150\n",
      "188/188 [==============================] - 1s 4ms/step - loss: 0.0182 - mae: 0.1048 - mse: 0.0182 - val_loss: 0.0378 - val_mae: 0.1153 - val_mse: 0.0378\n",
      "Epoch 40/150\n",
      "188/188 [==============================] - 1s 4ms/step - loss: 0.0187 - mae: 0.1049 - mse: 0.0187 - val_loss: 0.0307 - val_mae: 0.1111 - val_mse: 0.0307\n",
      "Epoch 41/150\n",
      "188/188 [==============================] - 1s 4ms/step - loss: 0.0178 - mae: 0.1044 - mse: 0.0178 - val_loss: 0.0376 - val_mae: 0.1132 - val_mse: 0.0376\n",
      "Epoch 42/150\n",
      "188/188 [==============================] - 1s 4ms/step - loss: 0.0180 - mae: 0.1046 - mse: 0.0180 - val_loss: 0.0428 - val_mae: 0.1136 - val_mse: 0.0428\n",
      "Epoch 43/150\n",
      "188/188 [==============================] - 1s 4ms/step - loss: 0.0179 - mae: 0.1046 - mse: 0.0179 - val_loss: 0.0333 - val_mae: 0.1146 - val_mse: 0.0333\n",
      "Epoch 44/150\n",
      "188/188 [==============================] - 1s 4ms/step - loss: 0.0191 - mae: 0.1045 - mse: 0.0191 - val_loss: 0.0238 - val_mae: 0.1107 - val_mse: 0.0238\n",
      "Epoch 45/150\n",
      "188/188 [==============================] - 1s 4ms/step - loss: 0.0178 - mae: 0.1043 - mse: 0.0178 - val_loss: 0.0357 - val_mae: 0.1133 - val_mse: 0.0357\n",
      "Epoch 46/150\n",
      "188/188 [==============================] - 1s 3ms/step - loss: 0.0197 - mae: 0.1046 - mse: 0.0197 - val_loss: 0.0300 - val_mae: 0.1112 - val_mse: 0.0300\n",
      "Epoch 47/150\n",
      "188/188 [==============================] - 1s 4ms/step - loss: 0.0180 - mae: 0.1044 - mse: 0.0180 - val_loss: 0.0391 - val_mae: 0.1163 - val_mse: 0.0391\n",
      "Epoch 48/150\n",
      "188/188 [==============================] - 1s 4ms/step - loss: 0.0179 - mae: 0.1041 - mse: 0.0179 - val_loss: 0.0398 - val_mae: 0.1161 - val_mse: 0.0398\n",
      "Epoch 49/150\n",
      "188/188 [==============================] - 1s 4ms/step - loss: 0.0187 - mae: 0.1044 - mse: 0.0187 - val_loss: 0.0362 - val_mae: 0.1134 - val_mse: 0.0362\n",
      "Epoch 50/150\n",
      "188/188 [==============================] - 1s 4ms/step - loss: 0.0181 - mae: 0.1043 - mse: 0.0181 - val_loss: 0.0407 - val_mae: 0.1126 - val_mse: 0.0407\n",
      "Epoch 51/150\n",
      "188/188 [==============================] - 1s 4ms/step - loss: 0.0179 - mae: 0.1040 - mse: 0.0179 - val_loss: 0.0496 - val_mae: 0.1137 - val_mse: 0.0496\n",
      "Epoch 52/150\n",
      "188/188 [==============================] - 1s 3ms/step - loss: 0.0179 - mae: 0.1042 - mse: 0.0179 - val_loss: 0.0401 - val_mae: 0.1132 - val_mse: 0.0401\n",
      "Epoch 53/150\n",
      "188/188 [==============================] - 1s 3ms/step - loss: 0.0185 - mae: 0.1042 - mse: 0.0185 - val_loss: 0.0253 - val_mae: 0.1127 - val_mse: 0.0253\n",
      "Epoch 54/150\n",
      "188/188 [==============================] - 1s 4ms/step - loss: 0.0179 - mae: 0.1041 - mse: 0.0179 - val_loss: 0.0259 - val_mae: 0.1108 - val_mse: 0.0259\n",
      "Epoch 55/150\n",
      "188/188 [==============================] - 1s 3ms/step - loss: 0.0181 - mae: 0.1040 - mse: 0.0181 - val_loss: 0.0308 - val_mae: 0.1117 - val_mse: 0.0308\n",
      "Epoch 56/150\n",
      "188/188 [==============================] - 1s 4ms/step - loss: 0.0190 - mae: 0.1042 - mse: 0.0190 - val_loss: 0.0343 - val_mae: 0.1125 - val_mse: 0.0343\n",
      "Epoch 57/150\n",
      "188/188 [==============================] - 1s 4ms/step - loss: 0.0181 - mae: 0.1039 - mse: 0.0181 - val_loss: 0.0288 - val_mae: 0.1150 - val_mse: 0.0288\n",
      "Epoch 58/150\n",
      "188/188 [==============================] - 1s 4ms/step - loss: 0.0183 - mae: 0.1040 - mse: 0.0183 - val_loss: 0.0286 - val_mae: 0.1130 - val_mse: 0.0286\n",
      "Epoch 59/150\n",
      "188/188 [==============================] - 1s 3ms/step - loss: 0.0185 - mae: 0.1040 - mse: 0.0185 - val_loss: 0.0300 - val_mae: 0.1109 - val_mse: 0.0300\n",
      "Epoch 60/150\n",
      "188/188 [==============================] - 1s 4ms/step - loss: 0.0180 - mae: 0.1038 - mse: 0.0180 - val_loss: 0.0461 - val_mae: 0.1194 - val_mse: 0.0461\n",
      "Epoch 61/150\n",
      "188/188 [==============================] - 1s 3ms/step - loss: 0.0180 - mae: 0.1037 - mse: 0.0180 - val_loss: 0.0543 - val_mae: 0.1142 - val_mse: 0.0543\n",
      "Epoch 62/150\n",
      "188/188 [==============================] - 1s 4ms/step - loss: 0.0184 - mae: 0.1040 - mse: 0.0184 - val_loss: 0.0454 - val_mae: 0.1122 - val_mse: 0.0454\n",
      "Epoch 63/150\n",
      "188/188 [==============================] - 1s 4ms/step - loss: 0.0189 - mae: 0.1040 - mse: 0.0189 - val_loss: 0.0355 - val_mae: 0.1142 - val_mse: 0.0355\n",
      "Epoch 64/150\n",
      "188/188 [==============================] - 1s 3ms/step - loss: 0.0178 - mae: 0.1037 - mse: 0.0178 - val_loss: 0.0361 - val_mae: 0.1122 - val_mse: 0.0361\n",
      "Epoch 65/150\n",
      "188/188 [==============================] - 1s 4ms/step - loss: 0.0179 - mae: 0.1036 - mse: 0.0179 - val_loss: 0.0470 - val_mae: 0.1130 - val_mse: 0.0470\n",
      "Epoch 66/150\n",
      "188/188 [==============================] - 1s 3ms/step - loss: 0.0179 - mae: 0.1037 - mse: 0.0179 - val_loss: 0.0385 - val_mae: 0.1120 - val_mse: 0.0385\n",
      "Epoch 67/150\n",
      "188/188 [==============================] - 1s 3ms/step - loss: 0.0181 - mae: 0.1035 - mse: 0.0181 - val_loss: 0.0493 - val_mae: 0.1129 - val_mse: 0.0493\n",
      "Epoch 68/150\n",
      "188/188 [==============================] - 1s 4ms/step - loss: 0.0179 - mae: 0.1035 - mse: 0.0179 - val_loss: 0.0417 - val_mae: 0.1131 - val_mse: 0.0417\n",
      "Epoch 69/150\n",
      "188/188 [==============================] - 1s 4ms/step - loss: 0.0193 - mae: 0.1038 - mse: 0.0193 - val_loss: 0.0517 - val_mae: 0.1126 - val_mse: 0.0517\n",
      "Epoch 70/150\n",
      "188/188 [==============================] - 1s 4ms/step - loss: 0.0181 - mae: 0.1035 - mse: 0.0181 - val_loss: 0.0514 - val_mae: 0.1124 - val_mse: 0.0514\n",
      "Epoch 71/150\n",
      "188/188 [==============================] - 1s 3ms/step - loss: 0.0193 - mae: 0.1038 - mse: 0.0193 - val_loss: 0.0439 - val_mae: 0.1111 - val_mse: 0.0439\n",
      "Epoch 72/150\n",
      "188/188 [==============================] - 1s 4ms/step - loss: 0.0190 - mae: 0.1037 - mse: 0.0190 - val_loss: 0.0411 - val_mae: 0.1113 - val_mse: 0.0411\n",
      "Epoch 73/150\n",
      "188/188 [==============================] - 1s 4ms/step - loss: 0.0182 - mae: 0.1035 - mse: 0.0182 - val_loss: 0.0477 - val_mae: 0.1136 - val_mse: 0.0477\n",
      "Epoch 74/150\n",
      "188/188 [==============================] - 1s 3ms/step - loss: 0.0182 - mae: 0.1035 - mse: 0.0182 - val_loss: 0.0487 - val_mae: 0.1128 - val_mse: 0.0487\n",
      "Epoch 75/150\n",
      "188/188 [==============================] - 1s 4ms/step - loss: 0.0179 - mae: 0.1035 - mse: 0.0179 - val_loss: 0.0477 - val_mae: 0.1137 - val_mse: 0.0477\n",
      "Epoch 76/150\n",
      "188/188 [==============================] - 1s 4ms/step - loss: 0.0190 - mae: 0.1037 - mse: 0.0190 - val_loss: 0.0486 - val_mae: 0.1118 - val_mse: 0.0486\n",
      "Epoch 77/150\n",
      "188/188 [==============================] - 1s 3ms/step - loss: 0.0182 - mae: 0.1036 - mse: 0.0182 - val_loss: 0.0473 - val_mae: 0.1124 - val_mse: 0.0473\n",
      "Epoch 78/150\n",
      "188/188 [==============================] - 1s 4ms/step - loss: 0.0179 - mae: 0.1033 - mse: 0.0179 - val_loss: 0.0426 - val_mae: 0.1125 - val_mse: 0.0426\n",
      "Epoch 79/150\n",
      "188/188 [==============================] - 1s 3ms/step - loss: 0.0178 - mae: 0.1032 - mse: 0.0178 - val_loss: 0.0446 - val_mae: 0.1134 - val_mse: 0.0446\n",
      "Epoch 80/150\n",
      "188/188 [==============================] - 1s 4ms/step - loss: 0.0189 - mae: 0.1038 - mse: 0.0189 - val_loss: 0.0350 - val_mae: 0.1112 - val_mse: 0.0350\n",
      "Epoch 81/150\n",
      "188/188 [==============================] - 1s 3ms/step - loss: 0.0179 - mae: 0.1031 - mse: 0.0179 - val_loss: 0.0465 - val_mae: 0.1127 - val_mse: 0.0465\n",
      "Epoch 82/150\n",
      "188/188 [==============================] - 1s 3ms/step - loss: 0.0184 - mae: 0.1034 - mse: 0.0184 - val_loss: 0.0435 - val_mae: 0.1119 - val_mse: 0.0435\n",
      "Epoch 83/150\n",
      "188/188 [==============================] - 1s 4ms/step - loss: 0.0181 - mae: 0.1034 - mse: 0.0181 - val_loss: 0.0384 - val_mae: 0.1116 - val_mse: 0.0384\n",
      "Epoch 84/150\n",
      "188/188 [==============================] - 1s 4ms/step - loss: 0.0179 - mae: 0.1033 - mse: 0.0179 - val_loss: 0.0402 - val_mae: 0.1140 - val_mse: 0.0402\n",
      "Epoch 85/150\n",
      "188/188 [==============================] - 1s 3ms/step - loss: 0.0181 - mae: 0.1034 - mse: 0.0181 - val_loss: 0.0427 - val_mae: 0.1150 - val_mse: 0.0427\n",
      "Epoch 86/150\n",
      "188/188 [==============================] - 1s 4ms/step - loss: 0.0185 - mae: 0.1032 - mse: 0.0185 - val_loss: 0.0408 - val_mae: 0.1107 - val_mse: 0.0408\n",
      "Epoch 87/150\n",
      "188/188 [==============================] - 1s 4ms/step - loss: 0.0192 - mae: 0.1037 - mse: 0.0192 - val_loss: 0.0327 - val_mae: 0.1117 - val_mse: 0.0327\n",
      "Epoch 88/150\n",
      "188/188 [==============================] - 1s 3ms/step - loss: 0.0178 - mae: 0.1031 - mse: 0.0178 - val_loss: 0.0561 - val_mae: 0.1177 - val_mse: 0.0561\n",
      "Epoch 89/150\n",
      "188/188 [==============================] - 1s 4ms/step - loss: 0.0190 - mae: 0.1036 - mse: 0.0190 - val_loss: 0.0372 - val_mae: 0.1109 - val_mse: 0.0372\n",
      "Epoch 90/150\n",
      "188/188 [==============================] - 1s 4ms/step - loss: 0.0182 - mae: 0.1032 - mse: 0.0182 - val_loss: 0.0380 - val_mae: 0.1117 - val_mse: 0.0380\n",
      "Epoch 91/150\n",
      "188/188 [==============================] - 1s 4ms/step - loss: 0.0181 - mae: 0.1033 - mse: 0.0181 - val_loss: 0.0406 - val_mae: 0.1120 - val_mse: 0.0406\n",
      "Epoch 92/150\n",
      "188/188 [==============================] - 1s 4ms/step - loss: 0.0185 - mae: 0.1032 - mse: 0.0185 - val_loss: 0.0485 - val_mae: 0.1132 - val_mse: 0.0485\n",
      "Epoch 93/150\n",
      "188/188 [==============================] - 1s 4ms/step - loss: 0.0184 - mae: 0.1034 - mse: 0.0184 - val_loss: 0.0387 - val_mae: 0.1114 - val_mse: 0.0387\n",
      "Epoch 94/150\n",
      "188/188 [==============================] - 1s 4ms/step - loss: 0.0181 - mae: 0.1031 - mse: 0.0181 - val_loss: 0.0409 - val_mae: 0.1151 - val_mse: 0.0409\n",
      "Epoch 95/150\n",
      "188/188 [==============================] - 1s 4ms/step - loss: 0.0182 - mae: 0.1033 - mse: 0.0182 - val_loss: 0.0372 - val_mae: 0.1140 - val_mse: 0.0372\n",
      "Epoch 96/150\n",
      "188/188 [==============================] - 1s 4ms/step - loss: 0.0186 - mae: 0.1033 - mse: 0.0186 - val_loss: 0.0432 - val_mae: 0.1116 - val_mse: 0.0432\n",
      "Epoch 97/150\n",
      "188/188 [==============================] - 1s 4ms/step - loss: 0.0191 - mae: 0.1034 - mse: 0.0191 - val_loss: 0.0368 - val_mae: 0.1104 - val_mse: 0.0368\n",
      "Epoch 98/150\n",
      "188/188 [==============================] - 1s 4ms/step - loss: 0.0179 - mae: 0.1030 - mse: 0.0179 - val_loss: 0.0562 - val_mae: 0.1132 - val_mse: 0.0562\n",
      "Epoch 99/150\n",
      "188/188 [==============================] - 1s 4ms/step - loss: 0.0186 - mae: 0.1032 - mse: 0.0186 - val_loss: 0.0562 - val_mae: 0.1124 - val_mse: 0.0562\n",
      "Epoch 100/150\n",
      "188/188 [==============================] - 1s 4ms/step - loss: 0.0192 - mae: 0.1032 - mse: 0.0192 - val_loss: 0.0702 - val_mae: 0.1136 - val_mse: 0.0702\n",
      "Epoch 101/150\n",
      "188/188 [==============================] - 1s 3ms/step - loss: 0.0178 - mae: 0.1029 - mse: 0.0178 - val_loss: 0.0757 - val_mae: 0.1156 - val_mse: 0.0757\n",
      "Epoch 102/150\n",
      "188/188 [==============================] - 1s 3ms/step - loss: 0.0191 - mae: 0.1033 - mse: 0.0191 - val_loss: 0.0628 - val_mae: 0.1130 - val_mse: 0.0628\n",
      "Epoch 103/150\n",
      "188/188 [==============================] - 1s 4ms/step - loss: 0.0181 - mae: 0.1032 - mse: 0.0181 - val_loss: 0.0597 - val_mae: 0.1131 - val_mse: 0.0597\n",
      "Epoch 104/150\n",
      "188/188 [==============================] - 1s 4ms/step - loss: 0.0184 - mae: 0.1033 - mse: 0.0184 - val_loss: 0.0649 - val_mae: 0.1133 - val_mse: 0.0649\n",
      "Epoch 105/150\n",
      "188/188 [==============================] - 1s 4ms/step - loss: 0.0182 - mae: 0.1031 - mse: 0.0182 - val_loss: 0.0552 - val_mae: 0.1126 - val_mse: 0.0552\n",
      "Epoch 106/150\n",
      "188/188 [==============================] - 1s 4ms/step - loss: 0.0182 - mae: 0.1030 - mse: 0.0182 - val_loss: 0.0509 - val_mae: 0.1133 - val_mse: 0.0509\n",
      "Epoch 107/150\n",
      "188/188 [==============================] - 1s 3ms/step - loss: 0.0178 - mae: 0.1031 - mse: 0.0178 - val_loss: 0.0454 - val_mae: 0.1120 - val_mse: 0.0454\n",
      "Epoch 108/150\n",
      "188/188 [==============================] - 1s 4ms/step - loss: 0.0185 - mae: 0.1033 - mse: 0.0185 - val_loss: 0.0602 - val_mae: 0.1141 - val_mse: 0.0602\n",
      "Epoch 109/150\n",
      "188/188 [==============================] - 1s 4ms/step - loss: 0.0178 - mae: 0.1030 - mse: 0.0178 - val_loss: 0.0526 - val_mae: 0.1122 - val_mse: 0.0526\n",
      "Epoch 110/150\n",
      "188/188 [==============================] - 1s 3ms/step - loss: 0.0191 - mae: 0.1032 - mse: 0.0191 - val_loss: 0.0487 - val_mae: 0.1134 - val_mse: 0.0487\n",
      "Epoch 111/150\n",
      "188/188 [==============================] - 1s 3ms/step - loss: 0.0178 - mae: 0.1029 - mse: 0.0178 - val_loss: 0.0409 - val_mae: 0.1103 - val_mse: 0.0409\n",
      "Epoch 112/150\n",
      "188/188 [==============================] - 1s 4ms/step - loss: 0.0179 - mae: 0.1028 - mse: 0.0179 - val_loss: 0.0530 - val_mae: 0.1125 - val_mse: 0.0530\n",
      "Epoch 113/150\n",
      "188/188 [==============================] - 1s 4ms/step - loss: 0.0184 - mae: 0.1032 - mse: 0.0184 - val_loss: 0.0388 - val_mae: 0.1115 - val_mse: 0.0388\n",
      "Epoch 114/150\n",
      "188/188 [==============================] - 1s 4ms/step - loss: 0.0187 - mae: 0.1030 - mse: 0.0187 - val_loss: 0.0360 - val_mae: 0.1101 - val_mse: 0.0360\n",
      "Epoch 115/150\n",
      "188/188 [==============================] - 1s 4ms/step - loss: 0.0179 - mae: 0.1029 - mse: 0.0179 - val_loss: 0.0345 - val_mae: 0.1115 - val_mse: 0.0345\n",
      "Epoch 116/150\n",
      "188/188 [==============================] - 1s 3ms/step - loss: 0.0178 - mae: 0.1029 - mse: 0.0178 - val_loss: 0.0627 - val_mae: 0.1147 - val_mse: 0.0627\n",
      "Epoch 117/150\n",
      "188/188 [==============================] - 1s 4ms/step - loss: 0.0196 - mae: 0.1033 - mse: 0.0196 - val_loss: 0.0386 - val_mae: 0.1107 - val_mse: 0.0386\n",
      "Epoch 118/150\n",
      "188/188 [==============================] - 1s 3ms/step - loss: 0.0180 - mae: 0.1030 - mse: 0.0180 - val_loss: 0.0308 - val_mae: 0.1154 - val_mse: 0.0308\n",
      "Epoch 119/150\n",
      "188/188 [==============================] - 1s 3ms/step - loss: 0.0178 - mae: 0.1028 - mse: 0.0178 - val_loss: 0.0446 - val_mae: 0.1149 - val_mse: 0.0446\n",
      "Epoch 120/150\n",
      "188/188 [==============================] - 1s 4ms/step - loss: 0.0178 - mae: 0.1030 - mse: 0.0178 - val_loss: 0.0511 - val_mae: 0.1114 - val_mse: 0.0511\n",
      "Epoch 121/150\n",
      "188/188 [==============================] - 1s 3ms/step - loss: 0.0196 - mae: 0.1031 - mse: 0.0196 - val_loss: 0.0489 - val_mae: 0.1110 - val_mse: 0.0489\n",
      "Epoch 122/150\n",
      "188/188 [==============================] - 1s 3ms/step - loss: 0.0179 - mae: 0.1029 - mse: 0.0179 - val_loss: 0.0433 - val_mae: 0.1115 - val_mse: 0.0433\n",
      "Epoch 123/150\n",
      "188/188 [==============================] - 1s 4ms/step - loss: 0.0190 - mae: 0.1032 - mse: 0.0190 - val_loss: 0.0381 - val_mae: 0.1117 - val_mse: 0.0381\n",
      "Epoch 124/150\n",
      "188/188 [==============================] - 1s 4ms/step - loss: 0.0187 - mae: 0.1033 - mse: 0.0187 - val_loss: 0.0332 - val_mae: 0.1116 - val_mse: 0.0332\n",
      "Epoch 125/150\n",
      "188/188 [==============================] - 1s 4ms/step - loss: 0.0188 - mae: 0.1028 - mse: 0.0188 - val_loss: 0.0462 - val_mae: 0.1118 - val_mse: 0.0462\n",
      "Epoch 126/150\n",
      "188/188 [==============================] - 1s 4ms/step - loss: 0.0179 - mae: 0.1030 - mse: 0.0179 - val_loss: 0.0331 - val_mae: 0.1096 - val_mse: 0.0331\n",
      "Epoch 127/150\n",
      "188/188 [==============================] - 1s 3ms/step - loss: 0.0186 - mae: 0.1030 - mse: 0.0186 - val_loss: 0.0354 - val_mae: 0.1122 - val_mse: 0.0354\n",
      "Epoch 128/150\n",
      "188/188 [==============================] - 1s 4ms/step - loss: 0.0181 - mae: 0.1029 - mse: 0.0181 - val_loss: 0.0379 - val_mae: 0.1113 - val_mse: 0.0379\n",
      "Epoch 129/150\n",
      "188/188 [==============================] - 1s 4ms/step - loss: 0.0180 - mae: 0.1028 - mse: 0.0180 - val_loss: 0.0424 - val_mae: 0.1114 - val_mse: 0.0424\n",
      "Epoch 130/150\n",
      "188/188 [==============================] - 1s 4ms/step - loss: 0.0180 - mae: 0.1028 - mse: 0.0180 - val_loss: 0.0501 - val_mae: 0.1123 - val_mse: 0.0501\n",
      "Epoch 131/150\n",
      "188/188 [==============================] - 1s 3ms/step - loss: 0.0187 - mae: 0.1030 - mse: 0.0187 - val_loss: 0.0351 - val_mae: 0.1149 - val_mse: 0.0351\n",
      "Epoch 132/150\n",
      "188/188 [==============================] - 1s 4ms/step - loss: 0.0181 - mae: 0.1028 - mse: 0.0181 - val_loss: 0.0390 - val_mae: 0.1101 - val_mse: 0.0390\n",
      "Epoch 133/150\n",
      "188/188 [==============================] - 1s 4ms/step - loss: 0.0185 - mae: 0.1031 - mse: 0.0185 - val_loss: 0.0397 - val_mae: 0.1112 - val_mse: 0.0397\n",
      "Epoch 134/150\n",
      "188/188 [==============================] - 1s 4ms/step - loss: 0.0180 - mae: 0.1027 - mse: 0.0180 - val_loss: 0.0495 - val_mae: 0.1121 - val_mse: 0.0495\n",
      "Epoch 135/150\n",
      "188/188 [==============================] - 1s 4ms/step - loss: 0.0183 - mae: 0.1028 - mse: 0.0183 - val_loss: 0.0513 - val_mae: 0.1125 - val_mse: 0.0513\n",
      "Epoch 136/150\n",
      "188/188 [==============================] - 1s 4ms/step - loss: 0.0181 - mae: 0.1029 - mse: 0.0181 - val_loss: 0.0450 - val_mae: 0.1153 - val_mse: 0.0450\n",
      "Epoch 137/150\n",
      "188/188 [==============================] - 1s 4ms/step - loss: 0.0184 - mae: 0.1030 - mse: 0.0184 - val_loss: 0.0450 - val_mae: 0.1107 - val_mse: 0.0450\n",
      "Epoch 138/150\n",
      "188/188 [==============================] - 1s 4ms/step - loss: 0.0179 - mae: 0.1027 - mse: 0.0179 - val_loss: 0.0459 - val_mae: 0.1138 - val_mse: 0.0459\n",
      "Epoch 139/150\n",
      "188/188 [==============================] - 1s 3ms/step - loss: 0.0182 - mae: 0.1028 - mse: 0.0182 - val_loss: 0.0432 - val_mae: 0.1119 - val_mse: 0.0432\n",
      "Epoch 140/150\n",
      "188/188 [==============================] - 1s 4ms/step - loss: 0.0179 - mae: 0.1028 - mse: 0.0179 - val_loss: 0.0425 - val_mae: 0.1110 - val_mse: 0.0425\n",
      "Epoch 141/150\n",
      "188/188 [==============================] - 1s 4ms/step - loss: 0.0183 - mae: 0.1028 - mse: 0.0183 - val_loss: 0.0470 - val_mae: 0.1128 - val_mse: 0.0470\n",
      "Epoch 142/150\n",
      "188/188 [==============================] - 1s 4ms/step - loss: 0.0188 - mae: 0.1031 - mse: 0.0188 - val_loss: 0.0525 - val_mae: 0.1119 - val_mse: 0.0525\n",
      "Epoch 143/150\n",
      "188/188 [==============================] - 1s 4ms/step - loss: 0.0179 - mae: 0.1027 - mse: 0.0179 - val_loss: 0.0522 - val_mae: 0.1131 - val_mse: 0.0522\n",
      "Epoch 144/150\n",
      "188/188 [==============================] - 1s 4ms/step - loss: 0.0178 - mae: 0.1026 - mse: 0.0178 - val_loss: 0.0486 - val_mae: 0.1144 - val_mse: 0.0486\n",
      "Epoch 145/150\n",
      "188/188 [==============================] - 1s 3ms/step - loss: 0.0179 - mae: 0.1028 - mse: 0.0179 - val_loss: 0.0532 - val_mae: 0.1152 - val_mse: 0.0532\n",
      "Epoch 146/150\n",
      "188/188 [==============================] - 1s 3ms/step - loss: 0.0179 - mae: 0.1028 - mse: 0.0179 - val_loss: 0.0554 - val_mae: 0.1126 - val_mse: 0.0554\n",
      "Epoch 147/150\n",
      "188/188 [==============================] - 1s 4ms/step - loss: 0.0180 - mae: 0.1026 - mse: 0.0180 - val_loss: 0.0605 - val_mae: 0.1136 - val_mse: 0.0605\n",
      "Epoch 148/150\n",
      "188/188 [==============================] - 1s 4ms/step - loss: 0.0183 - mae: 0.1030 - mse: 0.0183 - val_loss: 0.0801 - val_mae: 0.1149 - val_mse: 0.0801\n",
      "Epoch 149/150\n",
      "188/188 [==============================] - 1s 4ms/step - loss: 0.0179 - mae: 0.1026 - mse: 0.0179 - val_loss: 0.0504 - val_mae: 0.1126 - val_mse: 0.0504\n",
      "Epoch 150/150\n",
      "188/188 [==============================] - 1s 4ms/step - loss: 0.0179 - mae: 0.1027 - mse: 0.0179 - val_loss: 0.0393 - val_mae: 0.1114 - val_mse: 0.0393\n"
     ]
    }
   ],
   "source": [
    "model_mlp.fit(x_train_scal, y_train_scal, epochs=epochs_value, validation_split=0.2)\n",
    "process_cust(cust_process_fit,'MLP')"
   ]
  },
  {
   "cell_type": "markdown",
   "metadata": {},
   "source": [
    "Fazendo verificação da taxa de erro nas predições da rede."
   ]
  },
  {
   "cell_type": "code",
   "execution_count": 149,
   "metadata": {},
   "outputs": [],
   "source": [
    "pred_mlp = model_mlp.predict(x_test_scal).flatten()\n",
    "process_cust(cust_process_predict,'MLP')"
   ]
  },
  {
   "cell_type": "code",
   "execution_count": 150,
   "metadata": {},
   "outputs": [
    {
     "data": {
      "image/png": "[encoded data removed]",
      "text/plain": [
       "<Figure size 504x504 with 1 Axes>"
      ]
     },
     "metadata": {
      "needs_background": "light"
     },
     "output_type": "display_data"
    }
   ],
   "source": [
    "graphics_plot(y_test_scal, pred_mlp, 'MLP')"
   ]
  },
  {
   "cell_type": "code",
   "execution_count": 151,
   "metadata": {},
   "outputs": [
    {
     "data": {
      "image/png": "[encoded data removed]",
      "text/plain": [
       "<Figure size 432x288 with 1 Axes>"
      ]
     },
     "metadata": {
      "needs_background": "light"
     },
     "output_type": "display_data"
    }
   ],
   "source": [
    "error_mlp = pred_mlp - y_test_scal\n",
    "plt.hist(error_mlp, bins = 25)\n",
    "plt.xlabel(\"Prediction Error MLP\")\n",
    "_ = plt.ylabel(\"Count\")\n",
    "# plt.savefig('error_predicao-MLP.svg', format='svg')\n",
    "plt.savefig('error_predicao-MLP.png', format='png')\n",
    "plt.show()"
   ]
  },
  {
   "cell_type": "markdown",
   "metadata": {},
   "source": [
    "    ->Taxa de Acerto:\n",
    "    Dentre os valores obtidos para minimizar o erro, o modelo que teve a melhor performance foi a Linear Regression.\n",
    "\n",
    "    -> Processamento:\n",
    "    Nos testes verificados, obtemos que dentre os modelos mais simples\n",
    "    (Linear Regression, Decision Tree, Random Forest, Elastic Net e SVR), \n",
    "    o modelo, que possui o menor custo em processamento para o Processador\n",
    "    ficou entre o SVR e o Decision Tree, já em questão de consumo de memória ram,\n",
    "    O que tem um menor custo ficou com a Linear Regression.\n",
    "\n",
    "\n",
    "    -> Verificação Final:\n",
    "    Tendo em mente os custos de processamento e também a de taxa de acerto, verifica-se que o melhor modelo para ter uma boa performance no problema em questão ficou para a linear regression, pois além da alta taxa de acerto e baixo processamento, o algoritmo é muito simples e de fácil visualização das suas necessidades para configuração.\n"
   ]
  },
  {
   "cell_type": "markdown",
   "metadata": {},
   "source": [
    "a) Qual a melhor técnica (acurácia)?\n",
    "\n",
    "Pela acurácia dos modelos, a melhor técnica é a de Regressão Linear.\n",
    "\n",
    "b) Qual técnica é mais eficiente (custo de processamento)?\n",
    "\n",
    "->No quesito de custo pela porcentagem de uso do processador temos:\n",
    "\n",
    "* Para o conjunto de treinamento:MLP\n",
    "\n",
    "* Para o conjunto de teste: MLP\n",
    "\n",
    "->No quesito de custo pela porcentagem de uso de memória, temos:\n",
    "\n",
    "* Para o conjunto de treinamento: empate entre Regressão Linear e Árvore de Decisão.\n",
    "\n",
    "* Para o conjunto de teste: Arvore de Decisão e em seguida a Regressão Linear.\n",
    "\n",
    "c) Qual ténica se mostrou mais apropriada para o problema em questão? Porque?\n",
    "\n",
    "Pela alta taxa de acerto, baixo custo de processamento no uso de memória e mediano no uso do processador.\n",
    "Além do fato de ser uma técnica extremamente simples para a sua utilização.\n",
    "\n",
    "d) Você processou os dados? (normalizou, excluiu features, etc)\n",
    "\n",
    "Sim, features categóricas foram convertidas para numéricas e os dados foram normalizados para a utilização."
   ]
  },
  {
   "cell_type": "markdown",
   "metadata": {},
   "source": [
    "# Salvando o modelo de regressão linear para ser transformado em API utilizando o fast api"
   ]
  },
  {
   "cell_type": "code",
   "execution_count": 152,
   "metadata": {},
   "outputs": [],
   "source": [
    "# from sklearn.externals import joblib"
   ]
  },
  {
   "cell_type": "code",
   "execution_count": 153,
   "metadata": {},
   "outputs": [
    {
     "name": "stdout",
     "output_type": "stream",
     "text": [
      "Requirement already satisfied: joblib in /home/thales/anaconda3/lib/python3.7/site-packages (0.14.1)\n",
      "Note: you may need to restart the kernel to use updated packages.\n"
     ]
    }
   ],
   "source": [
    "pip install joblib"
   ]
  },
  {
   "cell_type": "code",
   "execution_count": 154,
   "metadata": {},
   "outputs": [],
   "source": [
    "import joblib "
   ]
  },
  {
   "cell_type": "code",
   "execution_count": 155,
   "metadata": {},
   "outputs": [
    {
     "data": {
      "text/plain": [
       "['linear_model.pkl']"
      ]
     },
     "execution_count": 155,
     "metadata": {},
     "output_type": "execute_result"
    }
   ],
   "source": [
    "joblib.dump(model_linear, 'linear_model.pkl')"
   ]
  },
  {
   "cell_type": "markdown",
   "metadata": {},
   "source": [
    "Exemplo de uso do modelo"
   ]
  },
  {
   "cell_type": "code",
   "execution_count": 166,
   "metadata": {},
   "outputs": [],
   "source": [
    "300\n",
    "\n",
    "test_array = [[0, 440, 3, 2, 2, 10, 1, 1, 3000, 4000, 400, 120]]\n"
   ]
  },
  {
   "cell_type": "code",
   "execution_count": 167,
   "metadata": {},
   "outputs": [
    {
     "data": {
      "text/plain": [
       "array([[3659.91975417]])"
      ]
     },
     "execution_count": 167,
     "metadata": {},
     "output_type": "execute_result"
    }
   ],
   "source": [
    "\n",
    "model_linear.predict(test_array)"
   ]
  },
  {
   "cell_type": "code",
   "execution_count": null,
   "metadata": {},
   "outputs": [],
   "source": []
  }
 ],
 "metadata": {
  "kernelspec": {
   "display_name": "Python 3",
   "language": "python",
   "name": "python3"
  },
  "language_info": {
   "codemirror_mode": {
    "name": "ipython",
    "version": 3
   },
   "file_extension": ".py",
   "mimetype": "text/x-python",
   "name": "python",
   "nbconvert_exporter": "python",
   "pygments_lexer": "ipython3",
   "version": "3.7.6"
  }
 },
 "nbformat": 4,
 "nbformat_minor": 4
}
